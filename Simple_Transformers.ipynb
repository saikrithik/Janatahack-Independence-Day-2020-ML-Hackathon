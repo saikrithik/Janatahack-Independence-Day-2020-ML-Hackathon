{
  "nbformat": 4,
  "nbformat_minor": 0,
  "metadata": {
    "colab": {
      "name": "Simple_Transformers.ipynb",
      "provenance": [],
      "collapsed_sections": []
    },
    "kernelspec": {
      "name": "python3",
      "display_name": "Python 3"
    },
    "accelerator": "GPU",
    "widgets": {
      "application/vnd.jupyter.widget-state+json": {
        "aba45f8006ac437b88264440415c89fd": {
          "model_module": "@jupyter-widgets/controls",
          "model_name": "HBoxModel",
          "state": {
            "_view_name": "HBoxView",
            "_dom_classes": [],
            "_model_name": "HBoxModel",
            "_view_module": "@jupyter-widgets/controls",
            "_model_module_version": "1.5.0",
            "_view_count": null,
            "_view_module_version": "1.5.0",
            "box_style": "",
            "layout": "IPY_MODEL_53eb6af2ae00439a9fb09eea859f0f60",
            "_model_module": "@jupyter-widgets/controls",
            "children": [
              "IPY_MODEL_23c2705509e848d2a32853608b2a9055",
              "IPY_MODEL_81a224922c3746649f9eef04c1d5c396"
            ]
          }
        },
        "53eb6af2ae00439a9fb09eea859f0f60": {
          "model_module": "@jupyter-widgets/base",
          "model_name": "LayoutModel",
          "state": {
            "_view_name": "LayoutView",
            "grid_template_rows": null,
            "right": null,
            "justify_content": null,
            "_view_module": "@jupyter-widgets/base",
            "overflow": null,
            "_model_module_version": "1.2.0",
            "_view_count": null,
            "flex_flow": null,
            "width": null,
            "min_width": null,
            "border": null,
            "align_items": null,
            "bottom": null,
            "_model_module": "@jupyter-widgets/base",
            "top": null,
            "grid_column": null,
            "overflow_y": null,
            "overflow_x": null,
            "grid_auto_flow": null,
            "grid_area": null,
            "grid_template_columns": null,
            "flex": null,
            "_model_name": "LayoutModel",
            "justify_items": null,
            "grid_row": null,
            "max_height": null,
            "align_content": null,
            "visibility": null,
            "align_self": null,
            "height": null,
            "min_height": null,
            "padding": null,
            "grid_auto_rows": null,
            "grid_gap": null,
            "max_width": null,
            "order": null,
            "_view_module_version": "1.2.0",
            "grid_template_areas": null,
            "object_position": null,
            "object_fit": null,
            "grid_auto_columns": null,
            "margin": null,
            "display": null,
            "left": null
          }
        },
        "23c2705509e848d2a32853608b2a9055": {
          "model_module": "@jupyter-widgets/controls",
          "model_name": "FloatProgressModel",
          "state": {
            "_view_name": "ProgressView",
            "style": "IPY_MODEL_c86c4bb2065c4c089ec881dd80710403",
            "_dom_classes": [],
            "description": "100%",
            "_model_name": "FloatProgressModel",
            "bar_style": "success",
            "max": 20972,
            "_view_module": "@jupyter-widgets/controls",
            "_model_module_version": "1.5.0",
            "value": 20972,
            "_view_count": null,
            "_view_module_version": "1.5.0",
            "orientation": "horizontal",
            "min": 0,
            "description_tooltip": null,
            "_model_module": "@jupyter-widgets/controls",
            "layout": "IPY_MODEL_e609eeb01b4c49c591513adf6506920e"
          }
        },
        "81a224922c3746649f9eef04c1d5c396": {
          "model_module": "@jupyter-widgets/controls",
          "model_name": "HTMLModel",
          "state": {
            "_view_name": "HTMLView",
            "style": "IPY_MODEL_a7c55cea990d4d3faa18bfbaaba0027e",
            "_dom_classes": [],
            "description": "",
            "_model_name": "HTMLModel",
            "placeholder": "​",
            "_view_module": "@jupyter-widgets/controls",
            "_model_module_version": "1.5.0",
            "value": " 20972/20972 [00:35&lt;00:00, 584.98it/s]",
            "_view_count": null,
            "_view_module_version": "1.5.0",
            "description_tooltip": null,
            "_model_module": "@jupyter-widgets/controls",
            "layout": "IPY_MODEL_d3a4b102d79945259da4709ac63a819f"
          }
        },
        "c86c4bb2065c4c089ec881dd80710403": {
          "model_module": "@jupyter-widgets/controls",
          "model_name": "ProgressStyleModel",
          "state": {
            "_view_name": "StyleView",
            "_model_name": "ProgressStyleModel",
            "description_width": "initial",
            "_view_module": "@jupyter-widgets/base",
            "_model_module_version": "1.5.0",
            "_view_count": null,
            "_view_module_version": "1.2.0",
            "bar_color": null,
            "_model_module": "@jupyter-widgets/controls"
          }
        },
        "e609eeb01b4c49c591513adf6506920e": {
          "model_module": "@jupyter-widgets/base",
          "model_name": "LayoutModel",
          "state": {
            "_view_name": "LayoutView",
            "grid_template_rows": null,
            "right": null,
            "justify_content": null,
            "_view_module": "@jupyter-widgets/base",
            "overflow": null,
            "_model_module_version": "1.2.0",
            "_view_count": null,
            "flex_flow": null,
            "width": null,
            "min_width": null,
            "border": null,
            "align_items": null,
            "bottom": null,
            "_model_module": "@jupyter-widgets/base",
            "top": null,
            "grid_column": null,
            "overflow_y": null,
            "overflow_x": null,
            "grid_auto_flow": null,
            "grid_area": null,
            "grid_template_columns": null,
            "flex": null,
            "_model_name": "LayoutModel",
            "justify_items": null,
            "grid_row": null,
            "max_height": null,
            "align_content": null,
            "visibility": null,
            "align_self": null,
            "height": null,
            "min_height": null,
            "padding": null,
            "grid_auto_rows": null,
            "grid_gap": null,
            "max_width": null,
            "order": null,
            "_view_module_version": "1.2.0",
            "grid_template_areas": null,
            "object_position": null,
            "object_fit": null,
            "grid_auto_columns": null,
            "margin": null,
            "display": null,
            "left": null
          }
        },
        "a7c55cea990d4d3faa18bfbaaba0027e": {
          "model_module": "@jupyter-widgets/controls",
          "model_name": "DescriptionStyleModel",
          "state": {
            "_view_name": "StyleView",
            "_model_name": "DescriptionStyleModel",
            "description_width": "",
            "_view_module": "@jupyter-widgets/base",
            "_model_module_version": "1.5.0",
            "_view_count": null,
            "_view_module_version": "1.2.0",
            "_model_module": "@jupyter-widgets/controls"
          }
        },
        "d3a4b102d79945259da4709ac63a819f": {
          "model_module": "@jupyter-widgets/base",
          "model_name": "LayoutModel",
          "state": {
            "_view_name": "LayoutView",
            "grid_template_rows": null,
            "right": null,
            "justify_content": null,
            "_view_module": "@jupyter-widgets/base",
            "overflow": null,
            "_model_module_version": "1.2.0",
            "_view_count": null,
            "flex_flow": null,
            "width": null,
            "min_width": null,
            "border": null,
            "align_items": null,
            "bottom": null,
            "_model_module": "@jupyter-widgets/base",
            "top": null,
            "grid_column": null,
            "overflow_y": null,
            "overflow_x": null,
            "grid_auto_flow": null,
            "grid_area": null,
            "grid_template_columns": null,
            "flex": null,
            "_model_name": "LayoutModel",
            "justify_items": null,
            "grid_row": null,
            "max_height": null,
            "align_content": null,
            "visibility": null,
            "align_self": null,
            "height": null,
            "min_height": null,
            "padding": null,
            "grid_auto_rows": null,
            "grid_gap": null,
            "max_width": null,
            "order": null,
            "_view_module_version": "1.2.0",
            "grid_template_areas": null,
            "object_position": null,
            "object_fit": null,
            "grid_auto_columns": null,
            "margin": null,
            "display": null,
            "left": null
          }
        },
        "75a5803c640d4dcbb1eb63ecd285c217": {
          "model_module": "@jupyter-widgets/controls",
          "model_name": "HBoxModel",
          "state": {
            "_view_name": "HBoxView",
            "_dom_classes": [],
            "_model_name": "HBoxModel",
            "_view_module": "@jupyter-widgets/controls",
            "_model_module_version": "1.5.0",
            "_view_count": null,
            "_view_module_version": "1.5.0",
            "box_style": "",
            "layout": "IPY_MODEL_efe04607695647b9a0aa11461c10f43f",
            "_model_module": "@jupyter-widgets/controls",
            "children": [
              "IPY_MODEL_c3e2d73a16d9423d8866574e4951451f",
              "IPY_MODEL_2b2d617bbf26416695b784368ae3bddc"
            ]
          }
        },
        "efe04607695647b9a0aa11461c10f43f": {
          "model_module": "@jupyter-widgets/base",
          "model_name": "LayoutModel",
          "state": {
            "_view_name": "LayoutView",
            "grid_template_rows": null,
            "right": null,
            "justify_content": null,
            "_view_module": "@jupyter-widgets/base",
            "overflow": null,
            "_model_module_version": "1.2.0",
            "_view_count": null,
            "flex_flow": null,
            "width": null,
            "min_width": null,
            "border": null,
            "align_items": null,
            "bottom": null,
            "_model_module": "@jupyter-widgets/base",
            "top": null,
            "grid_column": null,
            "overflow_y": null,
            "overflow_x": null,
            "grid_auto_flow": null,
            "grid_area": null,
            "grid_template_columns": null,
            "flex": null,
            "_model_name": "LayoutModel",
            "justify_items": null,
            "grid_row": null,
            "max_height": null,
            "align_content": null,
            "visibility": null,
            "align_self": null,
            "height": null,
            "min_height": null,
            "padding": null,
            "grid_auto_rows": null,
            "grid_gap": null,
            "max_width": null,
            "order": null,
            "_view_module_version": "1.2.0",
            "grid_template_areas": null,
            "object_position": null,
            "object_fit": null,
            "grid_auto_columns": null,
            "margin": null,
            "display": null,
            "left": null
          }
        },
        "c3e2d73a16d9423d8866574e4951451f": {
          "model_module": "@jupyter-widgets/controls",
          "model_name": "FloatProgressModel",
          "state": {
            "_view_name": "ProgressView",
            "style": "IPY_MODEL_7d63bbd59de04581a4633940366468b1",
            "_dom_classes": [],
            "description": "Epoch 1 of 2:   0%",
            "_model_name": "FloatProgressModel",
            "bar_style": "",
            "max": 2,
            "_view_module": "@jupyter-widgets/controls",
            "_model_module_version": "1.5.0",
            "value": 0,
            "_view_count": null,
            "_view_module_version": "1.5.0",
            "orientation": "horizontal",
            "min": 0,
            "description_tooltip": null,
            "_model_module": "@jupyter-widgets/controls",
            "layout": "IPY_MODEL_ba63a613e5c74133aebc0ca42e69432f"
          }
        },
        "2b2d617bbf26416695b784368ae3bddc": {
          "model_module": "@jupyter-widgets/controls",
          "model_name": "HTMLModel",
          "state": {
            "_view_name": "HTMLView",
            "style": "IPY_MODEL_c7938fe5b9344f24876fd1b7c6b4f738",
            "_dom_classes": [],
            "description": "",
            "_model_name": "HTMLModel",
            "placeholder": "​",
            "_view_module": "@jupyter-widgets/controls",
            "_model_module_version": "1.5.0",
            "value": " 0/2 [00:00&lt;?, ?it/s]",
            "_view_count": null,
            "_view_module_version": "1.5.0",
            "description_tooltip": null,
            "_model_module": "@jupyter-widgets/controls",
            "layout": "IPY_MODEL_f5b5d6cfcc0a4c75bc40f3a8961ac5e7"
          }
        },
        "7d63bbd59de04581a4633940366468b1": {
          "model_module": "@jupyter-widgets/controls",
          "model_name": "ProgressStyleModel",
          "state": {
            "_view_name": "StyleView",
            "_model_name": "ProgressStyleModel",
            "description_width": "initial",
            "_view_module": "@jupyter-widgets/base",
            "_model_module_version": "1.5.0",
            "_view_count": null,
            "_view_module_version": "1.2.0",
            "bar_color": null,
            "_model_module": "@jupyter-widgets/controls"
          }
        },
        "ba63a613e5c74133aebc0ca42e69432f": {
          "model_module": "@jupyter-widgets/base",
          "model_name": "LayoutModel",
          "state": {
            "_view_name": "LayoutView",
            "grid_template_rows": null,
            "right": null,
            "justify_content": null,
            "_view_module": "@jupyter-widgets/base",
            "overflow": null,
            "_model_module_version": "1.2.0",
            "_view_count": null,
            "flex_flow": null,
            "width": null,
            "min_width": null,
            "border": null,
            "align_items": null,
            "bottom": null,
            "_model_module": "@jupyter-widgets/base",
            "top": null,
            "grid_column": null,
            "overflow_y": null,
            "overflow_x": null,
            "grid_auto_flow": null,
            "grid_area": null,
            "grid_template_columns": null,
            "flex": null,
            "_model_name": "LayoutModel",
            "justify_items": null,
            "grid_row": null,
            "max_height": null,
            "align_content": null,
            "visibility": null,
            "align_self": null,
            "height": null,
            "min_height": null,
            "padding": null,
            "grid_auto_rows": null,
            "grid_gap": null,
            "max_width": null,
            "order": null,
            "_view_module_version": "1.2.0",
            "grid_template_areas": null,
            "object_position": null,
            "object_fit": null,
            "grid_auto_columns": null,
            "margin": null,
            "display": null,
            "left": null
          }
        },
        "c7938fe5b9344f24876fd1b7c6b4f738": {
          "model_module": "@jupyter-widgets/controls",
          "model_name": "DescriptionStyleModel",
          "state": {
            "_view_name": "StyleView",
            "_model_name": "DescriptionStyleModel",
            "description_width": "",
            "_view_module": "@jupyter-widgets/base",
            "_model_module_version": "1.5.0",
            "_view_count": null,
            "_view_module_version": "1.2.0",
            "_model_module": "@jupyter-widgets/controls"
          }
        },
        "f5b5d6cfcc0a4c75bc40f3a8961ac5e7": {
          "model_module": "@jupyter-widgets/base",
          "model_name": "LayoutModel",
          "state": {
            "_view_name": "LayoutView",
            "grid_template_rows": null,
            "right": null,
            "justify_content": null,
            "_view_module": "@jupyter-widgets/base",
            "overflow": null,
            "_model_module_version": "1.2.0",
            "_view_count": null,
            "flex_flow": null,
            "width": null,
            "min_width": null,
            "border": null,
            "align_items": null,
            "bottom": null,
            "_model_module": "@jupyter-widgets/base",
            "top": null,
            "grid_column": null,
            "overflow_y": null,
            "overflow_x": null,
            "grid_auto_flow": null,
            "grid_area": null,
            "grid_template_columns": null,
            "flex": null,
            "_model_name": "LayoutModel",
            "justify_items": null,
            "grid_row": null,
            "max_height": null,
            "align_content": null,
            "visibility": null,
            "align_self": null,
            "height": null,
            "min_height": null,
            "padding": null,
            "grid_auto_rows": null,
            "grid_gap": null,
            "max_width": null,
            "order": null,
            "_view_module_version": "1.2.0",
            "grid_template_areas": null,
            "object_position": null,
            "object_fit": null,
            "grid_auto_columns": null,
            "margin": null,
            "display": null,
            "left": null
          }
        },
        "cee8f54279ce4b20b501cb4c2b4831c9": {
          "model_module": "@jupyter-widgets/controls",
          "model_name": "HBoxModel",
          "state": {
            "_view_name": "HBoxView",
            "_dom_classes": [],
            "_model_name": "HBoxModel",
            "_view_module": "@jupyter-widgets/controls",
            "_model_module_version": "1.5.0",
            "_view_count": null,
            "_view_module_version": "1.5.0",
            "box_style": "",
            "layout": "IPY_MODEL_c8693c4a637b42e8b59163f361dc7a72",
            "_model_module": "@jupyter-widgets/controls",
            "children": [
              "IPY_MODEL_67192dbd794c4fc0959aab16e340bae2",
              "IPY_MODEL_d45c37027bea4e5d9e890db58a1382d0"
            ]
          }
        },
        "c8693c4a637b42e8b59163f361dc7a72": {
          "model_module": "@jupyter-widgets/base",
          "model_name": "LayoutModel",
          "state": {
            "_view_name": "LayoutView",
            "grid_template_rows": null,
            "right": null,
            "justify_content": null,
            "_view_module": "@jupyter-widgets/base",
            "overflow": null,
            "_model_module_version": "1.2.0",
            "_view_count": null,
            "flex_flow": null,
            "width": null,
            "min_width": null,
            "border": null,
            "align_items": null,
            "bottom": null,
            "_model_module": "@jupyter-widgets/base",
            "top": null,
            "grid_column": null,
            "overflow_y": null,
            "overflow_x": null,
            "grid_auto_flow": null,
            "grid_area": null,
            "grid_template_columns": null,
            "flex": null,
            "_model_name": "LayoutModel",
            "justify_items": null,
            "grid_row": null,
            "max_height": null,
            "align_content": null,
            "visibility": null,
            "align_self": null,
            "height": null,
            "min_height": null,
            "padding": null,
            "grid_auto_rows": null,
            "grid_gap": null,
            "max_width": null,
            "order": null,
            "_view_module_version": "1.2.0",
            "grid_template_areas": null,
            "object_position": null,
            "object_fit": null,
            "grid_auto_columns": null,
            "margin": null,
            "display": null,
            "left": null
          }
        },
        "67192dbd794c4fc0959aab16e340bae2": {
          "model_module": "@jupyter-widgets/controls",
          "model_name": "FloatProgressModel",
          "state": {
            "_view_name": "ProgressView",
            "style": "IPY_MODEL_e025966dfffa4d149f8e68dbef25ab83",
            "_dom_classes": [],
            "description": "Epochs 0/2. Running Loss:    1.3252:  37%",
            "_model_name": "FloatProgressModel",
            "bar_style": "",
            "max": 1311,
            "_view_module": "@jupyter-widgets/controls",
            "_model_module_version": "1.5.0",
            "value": 480,
            "_view_count": null,
            "_view_module_version": "1.5.0",
            "orientation": "horizontal",
            "min": 0,
            "description_tooltip": null,
            "_model_module": "@jupyter-widgets/controls",
            "layout": "IPY_MODEL_3fe8cf59ec0948268c73aba73ef382f9"
          }
        },
        "d45c37027bea4e5d9e890db58a1382d0": {
          "model_module": "@jupyter-widgets/controls",
          "model_name": "HTMLModel",
          "state": {
            "_view_name": "HTMLView",
            "style": "IPY_MODEL_93af5dc45daa439a8c851674d708e1bd",
            "_dom_classes": [],
            "description": "",
            "_model_name": "HTMLModel",
            "placeholder": "​",
            "_view_module": "@jupyter-widgets/controls",
            "_model_module_version": "1.5.0",
            "value": " 480/1311 [02:33&lt;04:27,  3.11it/s]",
            "_view_count": null,
            "_view_module_version": "1.5.0",
            "description_tooltip": null,
            "_model_module": "@jupyter-widgets/controls",
            "layout": "IPY_MODEL_29f5a4222e76412292caef9d97e501f4"
          }
        },
        "e025966dfffa4d149f8e68dbef25ab83": {
          "model_module": "@jupyter-widgets/controls",
          "model_name": "ProgressStyleModel",
          "state": {
            "_view_name": "StyleView",
            "_model_name": "ProgressStyleModel",
            "description_width": "initial",
            "_view_module": "@jupyter-widgets/base",
            "_model_module_version": "1.5.0",
            "_view_count": null,
            "_view_module_version": "1.2.0",
            "bar_color": null,
            "_model_module": "@jupyter-widgets/controls"
          }
        },
        "3fe8cf59ec0948268c73aba73ef382f9": {
          "model_module": "@jupyter-widgets/base",
          "model_name": "LayoutModel",
          "state": {
            "_view_name": "LayoutView",
            "grid_template_rows": null,
            "right": null,
            "justify_content": null,
            "_view_module": "@jupyter-widgets/base",
            "overflow": null,
            "_model_module_version": "1.2.0",
            "_view_count": null,
            "flex_flow": null,
            "width": null,
            "min_width": null,
            "border": null,
            "align_items": null,
            "bottom": null,
            "_model_module": "@jupyter-widgets/base",
            "top": null,
            "grid_column": null,
            "overflow_y": null,
            "overflow_x": null,
            "grid_auto_flow": null,
            "grid_area": null,
            "grid_template_columns": null,
            "flex": null,
            "_model_name": "LayoutModel",
            "justify_items": null,
            "grid_row": null,
            "max_height": null,
            "align_content": null,
            "visibility": null,
            "align_self": null,
            "height": null,
            "min_height": null,
            "padding": null,
            "grid_auto_rows": null,
            "grid_gap": null,
            "max_width": null,
            "order": null,
            "_view_module_version": "1.2.0",
            "grid_template_areas": null,
            "object_position": null,
            "object_fit": null,
            "grid_auto_columns": null,
            "margin": null,
            "display": null,
            "left": null
          }
        },
        "93af5dc45daa439a8c851674d708e1bd": {
          "model_module": "@jupyter-widgets/controls",
          "model_name": "DescriptionStyleModel",
          "state": {
            "_view_name": "StyleView",
            "_model_name": "DescriptionStyleModel",
            "description_width": "",
            "_view_module": "@jupyter-widgets/base",
            "_model_module_version": "1.5.0",
            "_view_count": null,
            "_view_module_version": "1.2.0",
            "_model_module": "@jupyter-widgets/controls"
          }
        },
        "29f5a4222e76412292caef9d97e501f4": {
          "model_module": "@jupyter-widgets/base",
          "model_name": "LayoutModel",
          "state": {
            "_view_name": "LayoutView",
            "grid_template_rows": null,
            "right": null,
            "justify_content": null,
            "_view_module": "@jupyter-widgets/base",
            "overflow": null,
            "_model_module_version": "1.2.0",
            "_view_count": null,
            "flex_flow": null,
            "width": null,
            "min_width": null,
            "border": null,
            "align_items": null,
            "bottom": null,
            "_model_module": "@jupyter-widgets/base",
            "top": null,
            "grid_column": null,
            "overflow_y": null,
            "overflow_x": null,
            "grid_auto_flow": null,
            "grid_area": null,
            "grid_template_columns": null,
            "flex": null,
            "_model_name": "LayoutModel",
            "justify_items": null,
            "grid_row": null,
            "max_height": null,
            "align_content": null,
            "visibility": null,
            "align_self": null,
            "height": null,
            "min_height": null,
            "padding": null,
            "grid_auto_rows": null,
            "grid_gap": null,
            "max_width": null,
            "order": null,
            "_view_module_version": "1.2.0",
            "grid_template_areas": null,
            "object_position": null,
            "object_fit": null,
            "grid_auto_columns": null,
            "margin": null,
            "display": null,
            "left": null
          }
        }
      }
    }
  },
  "cells": [
    {
      "cell_type": "code",
      "metadata": {
        "id": "Nu1jBWfGzx-t",
        "colab_type": "code",
        "colab": {
          "base_uri": "https://localhost:8080/",
          "height": 1000
        },
        "outputId": "c3193a1b-a327-41c0-f6a1-e522f0ede27b"
      },
      "source": [
        "!pip install --upgrade transformers\n",
        "!pip install simpletransformers\n",
        "# memory footprint support libraries/code\n",
        "!ln -sf /opt/bin/nvidia-smi /usr/bin/nvidia-smi\n",
        "!pip install gputil\n",
        "!pip install psutil\n",
        "!pip install humanize\n",
        "!pip install pyspellchecker"
      ],
      "execution_count": 1,
      "outputs": [
        {
          "output_type": "stream",
          "text": [
            "Requirement already up-to-date: transformers in /usr/local/lib/python3.6/dist-packages (3.0.2)\n",
            "Requirement already satisfied, skipping upgrade: filelock in /usr/local/lib/python3.6/dist-packages (from transformers) (3.0.12)\n",
            "Requirement already satisfied, skipping upgrade: sacremoses in /usr/local/lib/python3.6/dist-packages (from transformers) (0.0.43)\n",
            "Requirement already satisfied, skipping upgrade: dataclasses; python_version < \"3.7\" in /usr/local/lib/python3.6/dist-packages (from transformers) (0.7)\n",
            "Requirement already satisfied, skipping upgrade: tokenizers==0.8.1.rc1 in /usr/local/lib/python3.6/dist-packages (from transformers) (0.8.1rc1)\n",
            "Requirement already satisfied, skipping upgrade: sentencepiece!=0.1.92 in /usr/local/lib/python3.6/dist-packages (from transformers) (0.1.91)\n",
            "Requirement already satisfied, skipping upgrade: numpy in /usr/local/lib/python3.6/dist-packages (from transformers) (1.18.5)\n",
            "Requirement already satisfied, skipping upgrade: packaging in /usr/local/lib/python3.6/dist-packages (from transformers) (20.4)\n",
            "Requirement already satisfied, skipping upgrade: tqdm>=4.27 in /usr/local/lib/python3.6/dist-packages (from transformers) (4.48.2)\n",
            "Requirement already satisfied, skipping upgrade: regex!=2019.12.17 in /usr/local/lib/python3.6/dist-packages (from transformers) (2019.12.20)\n",
            "Requirement already satisfied, skipping upgrade: requests in /usr/local/lib/python3.6/dist-packages (from transformers) (2.23.0)\n",
            "Requirement already satisfied, skipping upgrade: click in /usr/local/lib/python3.6/dist-packages (from sacremoses->transformers) (7.1.2)\n",
            "Requirement already satisfied, skipping upgrade: six in /usr/local/lib/python3.6/dist-packages (from sacremoses->transformers) (1.15.0)\n",
            "Requirement already satisfied, skipping upgrade: joblib in /usr/local/lib/python3.6/dist-packages (from sacremoses->transformers) (0.16.0)\n",
            "Requirement already satisfied, skipping upgrade: pyparsing>=2.0.2 in /usr/local/lib/python3.6/dist-packages (from packaging->transformers) (2.4.7)\n",
            "Requirement already satisfied, skipping upgrade: certifi>=2017.4.17 in /usr/local/lib/python3.6/dist-packages (from requests->transformers) (2020.6.20)\n",
            "Requirement already satisfied, skipping upgrade: idna<3,>=2.5 in /usr/local/lib/python3.6/dist-packages (from requests->transformers) (2.10)\n",
            "Requirement already satisfied, skipping upgrade: chardet<4,>=3.0.2 in /usr/local/lib/python3.6/dist-packages (from requests->transformers) (3.0.4)\n",
            "Requirement already satisfied, skipping upgrade: urllib3!=1.25.0,!=1.25.1,<1.26,>=1.21.1 in /usr/local/lib/python3.6/dist-packages (from requests->transformers) (1.24.3)\n",
            "Requirement already satisfied: simpletransformers in /usr/local/lib/python3.6/dist-packages (0.47.2)\n",
            "Requirement already satisfied: numpy in /usr/local/lib/python3.6/dist-packages (from simpletransformers) (1.18.5)\n",
            "Requirement already satisfied: requests in /usr/local/lib/python3.6/dist-packages (from simpletransformers) (2.23.0)\n",
            "Requirement already satisfied: seqeval in /usr/local/lib/python3.6/dist-packages (from simpletransformers) (0.0.12)\n",
            "Requirement already satisfied: wandb in /usr/local/lib/python3.6/dist-packages (from simpletransformers) (0.9.4)\n",
            "Requirement already satisfied: pandas in /usr/local/lib/python3.6/dist-packages (from simpletransformers) (1.0.5)\n",
            "Requirement already satisfied: scipy in /usr/local/lib/python3.6/dist-packages (from simpletransformers) (1.4.1)\n",
            "Requirement already satisfied: tqdm>=4.47.0 in /usr/local/lib/python3.6/dist-packages (from simpletransformers) (4.48.2)\n",
            "Requirement already satisfied: transformers>=3.0.2 in /usr/local/lib/python3.6/dist-packages (from simpletransformers) (3.0.2)\n",
            "Requirement already satisfied: streamlit in /usr/local/lib/python3.6/dist-packages (from simpletransformers) (0.65.2)\n",
            "Requirement already satisfied: scikit-learn in /usr/local/lib/python3.6/dist-packages (from simpletransformers) (0.22.2.post1)\n",
            "Requirement already satisfied: tensorboardx in /usr/local/lib/python3.6/dist-packages (from simpletransformers) (2.1)\n",
            "Requirement already satisfied: regex in /usr/local/lib/python3.6/dist-packages (from simpletransformers) (2019.12.20)\n",
            "Requirement already satisfied: tokenizers in /usr/local/lib/python3.6/dist-packages (from simpletransformers) (0.8.1rc1)\n",
            "Requirement already satisfied: urllib3!=1.25.0,!=1.25.1,<1.26,>=1.21.1 in /usr/local/lib/python3.6/dist-packages (from requests->simpletransformers) (1.24.3)\n",
            "Requirement already satisfied: idna<3,>=2.5 in /usr/local/lib/python3.6/dist-packages (from requests->simpletransformers) (2.10)\n",
            "Requirement already satisfied: chardet<4,>=3.0.2 in /usr/local/lib/python3.6/dist-packages (from requests->simpletransformers) (3.0.4)\n",
            "Requirement already satisfied: certifi>=2017.4.17 in /usr/local/lib/python3.6/dist-packages (from requests->simpletransformers) (2020.6.20)\n",
            "Requirement already satisfied: Keras>=2.2.4 in /usr/local/lib/python3.6/dist-packages (from seqeval->simpletransformers) (2.4.3)\n",
            "Requirement already satisfied: watchdog>=0.8.3 in /usr/local/lib/python3.6/dist-packages (from wandb->simpletransformers) (0.10.3)\n",
            "Requirement already satisfied: python-dateutil>=2.6.1 in /usr/local/lib/python3.6/dist-packages (from wandb->simpletransformers) (2.8.1)\n",
            "Requirement already satisfied: shortuuid>=0.5.0 in /usr/local/lib/python3.6/dist-packages (from wandb->simpletransformers) (1.0.1)\n",
            "Requirement already satisfied: docker-pycreds>=0.4.0 in /usr/local/lib/python3.6/dist-packages (from wandb->simpletransformers) (0.4.0)\n",
            "Requirement already satisfied: configparser>=3.8.1 in /usr/local/lib/python3.6/dist-packages (from wandb->simpletransformers) (5.0.0)\n",
            "Requirement already satisfied: gql==0.2.0 in /usr/local/lib/python3.6/dist-packages (from wandb->simpletransformers) (0.2.0)\n",
            "Requirement already satisfied: psutil>=5.0.0 in /usr/local/lib/python3.6/dist-packages (from wandb->simpletransformers) (5.4.8)\n",
            "Requirement already satisfied: nvidia-ml-py3>=7.352.0 in /usr/local/lib/python3.6/dist-packages (from wandb->simpletransformers) (7.352.0)\n",
            "Requirement already satisfied: PyYAML>=3.10 in /usr/local/lib/python3.6/dist-packages (from wandb->simpletransformers) (3.13)\n",
            "Requirement already satisfied: subprocess32>=3.5.3 in /usr/local/lib/python3.6/dist-packages (from wandb->simpletransformers) (3.5.4)\n",
            "Requirement already satisfied: six>=1.10.0 in /usr/local/lib/python3.6/dist-packages (from wandb->simpletransformers) (1.15.0)\n",
            "Requirement already satisfied: Click>=7.0 in /usr/local/lib/python3.6/dist-packages (from wandb->simpletransformers) (7.1.2)\n",
            "Requirement already satisfied: GitPython>=1.0.0 in /usr/local/lib/python3.6/dist-packages (from wandb->simpletransformers) (3.1.7)\n",
            "Requirement already satisfied: sentry-sdk>=0.4.0 in /usr/local/lib/python3.6/dist-packages (from wandb->simpletransformers) (0.16.5)\n",
            "Requirement already satisfied: pytz>=2017.2 in /usr/local/lib/python3.6/dist-packages (from pandas->simpletransformers) (2018.9)\n",
            "Requirement already satisfied: packaging in /usr/local/lib/python3.6/dist-packages (from transformers>=3.0.2->simpletransformers) (20.4)\n",
            "Requirement already satisfied: sentencepiece!=0.1.92 in /usr/local/lib/python3.6/dist-packages (from transformers>=3.0.2->simpletransformers) (0.1.91)\n",
            "Requirement already satisfied: dataclasses; python_version < \"3.7\" in /usr/local/lib/python3.6/dist-packages (from transformers>=3.0.2->simpletransformers) (0.7)\n",
            "Requirement already satisfied: filelock in /usr/local/lib/python3.6/dist-packages (from transformers>=3.0.2->simpletransformers) (3.0.12)\n",
            "Requirement already satisfied: sacremoses in /usr/local/lib/python3.6/dist-packages (from transformers>=3.0.2->simpletransformers) (0.0.43)\n",
            "Requirement already satisfied: blinker in /usr/local/lib/python3.6/dist-packages (from streamlit->simpletransformers) (1.4)\n",
            "Requirement already satisfied: protobuf>=3.6.0 in /usr/local/lib/python3.6/dist-packages (from streamlit->simpletransformers) (3.12.4)\n",
            "Requirement already satisfied: boto3 in /usr/local/lib/python3.6/dist-packages (from streamlit->simpletransformers) (1.14.37)\n",
            "Requirement already satisfied: toml in /usr/local/lib/python3.6/dist-packages (from streamlit->simpletransformers) (0.10.1)\n",
            "Requirement already satisfied: cachetools>=4.0 in /usr/local/lib/python3.6/dist-packages (from streamlit->simpletransformers) (4.1.1)\n",
            "Requirement already satisfied: pydeck>=0.1.dev5 in /usr/local/lib/python3.6/dist-packages (from streamlit->simpletransformers) (0.4.1)\n",
            "Requirement already satisfied: validators in /usr/local/lib/python3.6/dist-packages (from streamlit->simpletransformers) (0.17.1)\n",
            "Requirement already satisfied: astor in /usr/local/lib/python3.6/dist-packages (from streamlit->simpletransformers) (0.8.1)\n",
            "Requirement already satisfied: pyarrow in /usr/local/lib/python3.6/dist-packages (from streamlit->simpletransformers) (0.14.1)\n",
            "Requirement already satisfied: altair>=3.2.0 in /usr/local/lib/python3.6/dist-packages (from streamlit->simpletransformers) (4.1.0)\n",
            "Requirement already satisfied: pillow>=6.2.0 in /usr/local/lib/python3.6/dist-packages (from streamlit->simpletransformers) (7.0.0)\n",
            "Requirement already satisfied: tzlocal in /usr/local/lib/python3.6/dist-packages (from streamlit->simpletransformers) (1.5.1)\n",
            "Requirement already satisfied: base58 in /usr/local/lib/python3.6/dist-packages (from streamlit->simpletransformers) (2.0.1)\n",
            "Requirement already satisfied: tornado>=5.0 in /usr/local/lib/python3.6/dist-packages (from streamlit->simpletransformers) (5.1.1)\n",
            "Requirement already satisfied: botocore>=1.13.44 in /usr/local/lib/python3.6/dist-packages (from streamlit->simpletransformers) (1.17.37)\n",
            "Requirement already satisfied: enum-compat in /usr/local/lib/python3.6/dist-packages (from streamlit->simpletransformers) (0.0.3)\n",
            "Requirement already satisfied: joblib>=0.11 in /usr/local/lib/python3.6/dist-packages (from scikit-learn->simpletransformers) (0.16.0)\n",
            "Requirement already satisfied: h5py in /usr/local/lib/python3.6/dist-packages (from Keras>=2.2.4->seqeval->simpletransformers) (2.10.0)\n",
            "Requirement already satisfied: pathtools>=0.1.1 in /usr/local/lib/python3.6/dist-packages (from watchdog>=0.8.3->wandb->simpletransformers) (0.1.2)\n",
            "Requirement already satisfied: graphql-core<2,>=0.5.0 in /usr/local/lib/python3.6/dist-packages (from gql==0.2.0->wandb->simpletransformers) (1.1)\n",
            "Requirement already satisfied: promise<3,>=2.0 in /usr/local/lib/python3.6/dist-packages (from gql==0.2.0->wandb->simpletransformers) (2.3)\n",
            "Requirement already satisfied: gitdb<5,>=4.0.1 in /usr/local/lib/python3.6/dist-packages (from GitPython>=1.0.0->wandb->simpletransformers) (4.0.5)\n",
            "Requirement already satisfied: pyparsing>=2.0.2 in /usr/local/lib/python3.6/dist-packages (from packaging->transformers>=3.0.2->simpletransformers) (2.4.7)\n",
            "Requirement already satisfied: setuptools in /usr/local/lib/python3.6/dist-packages (from protobuf>=3.6.0->streamlit->simpletransformers) (49.2.0)\n",
            "Requirement already satisfied: s3transfer<0.4.0,>=0.3.0 in /usr/local/lib/python3.6/dist-packages (from boto3->streamlit->simpletransformers) (0.3.3)\n",
            "Requirement already satisfied: jmespath<1.0.0,>=0.7.1 in /usr/local/lib/python3.6/dist-packages (from boto3->streamlit->simpletransformers) (0.10.0)\n",
            "Requirement already satisfied: jinja2>=2.10.1 in /usr/local/lib/python3.6/dist-packages (from pydeck>=0.1.dev5->streamlit->simpletransformers) (2.11.2)\n",
            "Requirement already satisfied: ipykernel>=5.1.2; python_version >= \"3.4\" in /usr/local/lib/python3.6/dist-packages (from pydeck>=0.1.dev5->streamlit->simpletransformers) (5.3.4)\n",
            "Requirement already satisfied: ipywidgets>=7.0.0 in /usr/local/lib/python3.6/dist-packages (from pydeck>=0.1.dev5->streamlit->simpletransformers) (7.5.1)\n",
            "Requirement already satisfied: traitlets>=4.3.2 in /usr/local/lib/python3.6/dist-packages (from pydeck>=0.1.dev5->streamlit->simpletransformers) (4.3.3)\n",
            "Requirement already satisfied: decorator>=3.4.0 in /usr/local/lib/python3.6/dist-packages (from validators->streamlit->simpletransformers) (4.4.2)\n",
            "Requirement already satisfied: jsonschema in /usr/local/lib/python3.6/dist-packages (from altair>=3.2.0->streamlit->simpletransformers) (2.6.0)\n",
            "Requirement already satisfied: toolz in /usr/local/lib/python3.6/dist-packages (from altair>=3.2.0->streamlit->simpletransformers) (0.10.0)\n",
            "Requirement already satisfied: entrypoints in /usr/local/lib/python3.6/dist-packages (from altair>=3.2.0->streamlit->simpletransformers) (0.3)\n",
            "Requirement already satisfied: docutils<0.16,>=0.10 in /usr/local/lib/python3.6/dist-packages (from botocore>=1.13.44->streamlit->simpletransformers) (0.15.2)\n",
            "Requirement already satisfied: smmap<4,>=3.0.1 in /usr/local/lib/python3.6/dist-packages (from gitdb<5,>=4.0.1->GitPython>=1.0.0->wandb->simpletransformers) (3.0.4)\n",
            "Requirement already satisfied: MarkupSafe>=0.23 in /usr/local/lib/python3.6/dist-packages (from jinja2>=2.10.1->pydeck>=0.1.dev5->streamlit->simpletransformers) (1.1.1)\n",
            "Requirement already satisfied: ipython>=5.0.0 in /usr/local/lib/python3.6/dist-packages (from ipykernel>=5.1.2; python_version >= \"3.4\"->pydeck>=0.1.dev5->streamlit->simpletransformers) (5.5.0)\n",
            "Requirement already satisfied: jupyter-client in /usr/local/lib/python3.6/dist-packages (from ipykernel>=5.1.2; python_version >= \"3.4\"->pydeck>=0.1.dev5->streamlit->simpletransformers) (5.3.5)\n",
            "Requirement already satisfied: widgetsnbextension~=3.5.0 in /usr/local/lib/python3.6/dist-packages (from ipywidgets>=7.0.0->pydeck>=0.1.dev5->streamlit->simpletransformers) (3.5.1)\n",
            "Requirement already satisfied: nbformat>=4.2.0 in /usr/local/lib/python3.6/dist-packages (from ipywidgets>=7.0.0->pydeck>=0.1.dev5->streamlit->simpletransformers) (5.0.7)\n",
            "Requirement already satisfied: ipython-genutils in /usr/local/lib/python3.6/dist-packages (from traitlets>=4.3.2->pydeck>=0.1.dev5->streamlit->simpletransformers) (0.2.0)\n",
            "Requirement already satisfied: pygments in /usr/local/lib/python3.6/dist-packages (from ipython>=5.0.0->ipykernel>=5.1.2; python_version >= \"3.4\"->pydeck>=0.1.dev5->streamlit->simpletransformers) (2.1.3)\n",
            "Requirement already satisfied: simplegeneric>0.8 in /usr/local/lib/python3.6/dist-packages (from ipython>=5.0.0->ipykernel>=5.1.2; python_version >= \"3.4\"->pydeck>=0.1.dev5->streamlit->simpletransformers) (0.8.1)\n",
            "Requirement already satisfied: pexpect; sys_platform != \"win32\" in /usr/local/lib/python3.6/dist-packages (from ipython>=5.0.0->ipykernel>=5.1.2; python_version >= \"3.4\"->pydeck>=0.1.dev5->streamlit->simpletransformers) (4.8.0)\n",
            "Requirement already satisfied: prompt-toolkit<2.0.0,>=1.0.4 in /usr/local/lib/python3.6/dist-packages (from ipython>=5.0.0->ipykernel>=5.1.2; python_version >= \"3.4\"->pydeck>=0.1.dev5->streamlit->simpletransformers) (1.0.18)\n",
            "Requirement already satisfied: pickleshare in /usr/local/lib/python3.6/dist-packages (from ipython>=5.0.0->ipykernel>=5.1.2; python_version >= \"3.4\"->pydeck>=0.1.dev5->streamlit->simpletransformers) (0.7.5)\n",
            "Requirement already satisfied: pyzmq>=13 in /usr/local/lib/python3.6/dist-packages (from jupyter-client->ipykernel>=5.1.2; python_version >= \"3.4\"->pydeck>=0.1.dev5->streamlit->simpletransformers) (19.0.2)\n",
            "Requirement already satisfied: jupyter-core>=4.6.0 in /usr/local/lib/python3.6/dist-packages (from jupyter-client->ipykernel>=5.1.2; python_version >= \"3.4\"->pydeck>=0.1.dev5->streamlit->simpletransformers) (4.6.3)\n",
            "Requirement already satisfied: notebook>=4.4.1 in /usr/local/lib/python3.6/dist-packages (from widgetsnbextension~=3.5.0->ipywidgets>=7.0.0->pydeck>=0.1.dev5->streamlit->simpletransformers) (5.3.1)\n",
            "Requirement already satisfied: ptyprocess>=0.5 in /usr/local/lib/python3.6/dist-packages (from pexpect; sys_platform != \"win32\"->ipython>=5.0.0->ipykernel>=5.1.2; python_version >= \"3.4\"->pydeck>=0.1.dev5->streamlit->simpletransformers) (0.6.0)\n",
            "Requirement already satisfied: wcwidth in /usr/local/lib/python3.6/dist-packages (from prompt-toolkit<2.0.0,>=1.0.4->ipython>=5.0.0->ipykernel>=5.1.2; python_version >= \"3.4\"->pydeck>=0.1.dev5->streamlit->simpletransformers) (0.2.5)\n",
            "Requirement already satisfied: Send2Trash in /usr/local/lib/python3.6/dist-packages (from notebook>=4.4.1->widgetsnbextension~=3.5.0->ipywidgets>=7.0.0->pydeck>=0.1.dev5->streamlit->simpletransformers) (1.5.0)\n",
            "Requirement already satisfied: nbconvert in /usr/local/lib/python3.6/dist-packages (from notebook>=4.4.1->widgetsnbextension~=3.5.0->ipywidgets>=7.0.0->pydeck>=0.1.dev5->streamlit->simpletransformers) (5.6.1)\n",
            "Requirement already satisfied: terminado>=0.8.1 in /usr/local/lib/python3.6/dist-packages (from notebook>=4.4.1->widgetsnbextension~=3.5.0->ipywidgets>=7.0.0->pydeck>=0.1.dev5->streamlit->simpletransformers) (0.8.3)\n",
            "Requirement already satisfied: pandocfilters>=1.4.1 in /usr/local/lib/python3.6/dist-packages (from nbconvert->notebook>=4.4.1->widgetsnbextension~=3.5.0->ipywidgets>=7.0.0->pydeck>=0.1.dev5->streamlit->simpletransformers) (1.4.2)\n",
            "Requirement already satisfied: testpath in /usr/local/lib/python3.6/dist-packages (from nbconvert->notebook>=4.4.1->widgetsnbextension~=3.5.0->ipywidgets>=7.0.0->pydeck>=0.1.dev5->streamlit->simpletransformers) (0.4.4)\n",
            "Requirement already satisfied: bleach in /usr/local/lib/python3.6/dist-packages (from nbconvert->notebook>=4.4.1->widgetsnbextension~=3.5.0->ipywidgets>=7.0.0->pydeck>=0.1.dev5->streamlit->simpletransformers) (3.1.5)\n",
            "Requirement already satisfied: defusedxml in /usr/local/lib/python3.6/dist-packages (from nbconvert->notebook>=4.4.1->widgetsnbextension~=3.5.0->ipywidgets>=7.0.0->pydeck>=0.1.dev5->streamlit->simpletransformers) (0.6.0)\n",
            "Requirement already satisfied: mistune<2,>=0.8.1 in /usr/local/lib/python3.6/dist-packages (from nbconvert->notebook>=4.4.1->widgetsnbextension~=3.5.0->ipywidgets>=7.0.0->pydeck>=0.1.dev5->streamlit->simpletransformers) (0.8.4)\n",
            "Requirement already satisfied: webencodings in /usr/local/lib/python3.6/dist-packages (from bleach->nbconvert->notebook>=4.4.1->widgetsnbextension~=3.5.0->ipywidgets>=7.0.0->pydeck>=0.1.dev5->streamlit->simpletransformers) (0.5.1)\n",
            "Requirement already satisfied: gputil in /usr/local/lib/python3.6/dist-packages (1.4.0)\n",
            "Requirement already satisfied: psutil in /usr/local/lib/python3.6/dist-packages (5.4.8)\n",
            "Requirement already satisfied: humanize in /usr/local/lib/python3.6/dist-packages (0.5.1)\n",
            "Requirement already satisfied: pyspellchecker in /usr/local/lib/python3.6/dist-packages (0.5.5)\n"
          ],
          "name": "stdout"
        }
      ]
    },
    {
      "cell_type": "code",
      "metadata": {
        "id": "tfsVWpAy2lJf",
        "colab_type": "code",
        "colab": {
          "base_uri": "https://localhost:8080/",
          "height": 51
        },
        "outputId": "15761247-a6d7-4d6a-87c0-d151be88fbac"
      },
      "source": [
        "import psutil\n",
        "import humanize\n",
        "import os\n",
        "import GPUtil as GPU\n",
        "\n",
        "GPUs = GPU.getGPUs()\n",
        "gpu = GPUs[0]\n",
        "def printm():\n",
        "    process = psutil.Process(os.getpid())\n",
        "    print(\"Gen RAM Free: \" + humanize.naturalsize(psutil.virtual_memory().available), \" |     Proc size: \" + humanize.naturalsize(process.memory_info().rss))\n",
        "    print(\"GPU RAM Free: {0:.0f}MB | Used: {1:.0f}MB | Util {2:3.0f}% | Total     {3:.0f}MB\".format(gpu.memoryFree, gpu.memoryUsed, gpu.memoryUtil*100, gpu.memoryTotal))\n",
        "printm()"
      ],
      "execution_count": 2,
      "outputs": [
        {
          "output_type": "stream",
          "text": [
            "Gen RAM Free: 12.7 GB  |     Proc size: 109.4 MB\n",
            "GPU RAM Free: 15079MB | Used: 0MB | Util   0% | Total     15079MB\n"
          ],
          "name": "stdout"
        }
      ]
    },
    {
      "cell_type": "code",
      "metadata": {
        "id": "ZTsaEm2b2sIU",
        "colab_type": "code",
        "colab": {
          "base_uri": "https://localhost:8080/",
          "height": 34
        },
        "outputId": "45229926-c3ff-4724-9505-264fde574b86"
      },
      "source": [
        "import numpy as np\n",
        "import pandas as pd\n",
        "from google.colab import files\n",
        "from tqdm import tqdm\n",
        "import warnings\n",
        "warnings.simplefilter('ignore')\n",
        "import gc\n",
        "from scipy.special import softmax\n",
        "from simpletransformers.classification import ClassificationModel\n",
        "from sklearn.model_selection import train_test_split, StratifiedKFold, KFold\n",
        "import sklearn\n",
        "from sklearn.metrics import log_loss\n",
        "from sklearn.metrics import *\n",
        "from sklearn.model_selection import *\n",
        "from ast import literal_eval\n",
        "import re\n",
        "from spellchecker import SpellChecker\n",
        "import random\n",
        "from sklearn.preprocessing import LabelEncoder\n",
        "import torch\n",
        "pd.options.display.max_colwidth = 200\n",
        "\n",
        "def seed_all(seed_value):\n",
        "    random.seed(seed_value) # Python\n",
        "    np.random.seed(seed_value) # cpu vars\n",
        "    torch.manual_seed(seed_value) # cpu  vars\n",
        "    \n",
        "    if torch.cuda.is_available(): \n",
        "        torch.cuda.manual_seed(seed_value)\n",
        "        torch.cuda.manual_seed_all(seed_value) # gpu vars\n",
        "        torch.backends.cudnn.deterministic = True  #needed\n",
        "        torch.backends.cudnn.benchmark = False\n",
        "\n",
        "seed_all(2)"
      ],
      "execution_count": 3,
      "outputs": [
        {
          "output_type": "stream",
          "text": [
            "\u001b[34m\u001b[1mwandb\u001b[0m: \u001b[33mWARNING\u001b[0m W&B installed but not logged in.  Run `wandb login` or set the WANDB_API_KEY env variable.\n"
          ],
          "name": "stderr"
        }
      ]
    },
    {
      "cell_type": "code",
      "metadata": {
        "id": "vW8zX4b44Vkp",
        "colab_type": "code",
        "colab": {}
      },
      "source": [
        "# spell = SpellChecker()\n",
        "# def get_correct_words(x):\n",
        "#     new_sentence = []\n",
        "#     for i in x.split():\n",
        "#         check_mispelled = spell.unknown([i])\n",
        "#         if len(check_mispelled) > 0:\n",
        "#             for word in check_mispelled:\n",
        "#                 word_correct = spell.correction(word)\n",
        "#                 new_sentence.append(word_correct)\n",
        "#         else:\n",
        "#             new_sentence.append(i)\n",
        "#     return ' '.join(new_sentence)"
      ],
      "execution_count": 4,
      "outputs": []
    },
    {
      "cell_type": "code",
      "metadata": {
        "id": "_wwV55-Pu9zF",
        "colab_type": "code",
        "colab": {}
      },
      "source": [
        "# from albumentations.core.transforms_interface import DualTransform, BasicTransform\n",
        "# from nltk import sent_tokenize\n",
        "# class NLPTransform(BasicTransform):\n",
        "#     \"\"\" Transform for nlp task.\"\"\"\n",
        "#     LANGS = {\n",
        "#         'en': 'english'\n",
        "#     }\n",
        "\n",
        "#     @property\n",
        "#     def targets(self):\n",
        "#         return {\"data\": self.apply}\n",
        "    \n",
        "#     def update_params(self, params, **kwargs):\n",
        "#         if hasattr(self, \"interpolation\"):\n",
        "#             params[\"interpolation\"] = self.interpolation\n",
        "#         if hasattr(self, \"fill_value\"):\n",
        "#             params[\"fill_value\"] = self.fill_value\n",
        "#         return params\n",
        "\n",
        "#     def get_sentences(self, text, lang='en'):\n",
        "#         return sent_tokenize(text, self.LANGS.get(lang, 'english'))"
      ],
      "execution_count": 5,
      "outputs": []
    },
    {
      "cell_type": "code",
      "metadata": {
        "id": "hWUJOCkuvJT8",
        "colab_type": "code",
        "colab": {}
      },
      "source": [
        "# class SwapWordsTransform(NLPTransform):\n",
        "#     \"\"\" Swap words next to each other \"\"\"\n",
        "#     def __init__(self, swap_distance=1, swap_probability=0.1, always_apply=False, p=0.5):\n",
        "#         \"\"\"  \n",
        "#         swap_distance - distance for swapping words\n",
        "#         swap_probability - probability of swapping for one word\n",
        "#         \"\"\"\n",
        "#         super(SwapWordsTransform, self).__init__(always_apply, p)\n",
        "#         self.swap_distance = swap_distance\n",
        "#         self.swap_probability = swap_probability\n",
        "#         self.swap_range_list = list(range(1, swap_distance+1))\n",
        "\n",
        "#     def apply(self, data, **params):\n",
        "#         text, lang = data\n",
        "#         words = text.split()\n",
        "#         words_count = len(words)\n",
        "#         if words_count <= 1:\n",
        "#             return text, lang\n",
        "\n",
        "#         new_words = {}\n",
        "#         for i in range(words_count):\n",
        "#             if random.random() > self.swap_probability:\n",
        "#                 new_words[i] = words[i]\n",
        "#                 continue\n",
        "    \n",
        "#             if i < self.swap_distance:\n",
        "#                 new_words[i] = words[i]\n",
        "#                 continue\n",
        "    \n",
        "#             swap_idx = i - random.choice(self.swap_range_list)\n",
        "#             new_words[i] = new_words[swap_idx]\n",
        "#             new_words[swap_idx] = words[i]\n",
        "\n",
        "#         return ' '.join([v for k, v in sorted(new_words.items(), key=lambda x: x[0])]), lang"
      ],
      "execution_count": 6,
      "outputs": []
    },
    {
      "cell_type": "code",
      "metadata": {
        "id": "7xJM6Ih1vTMS",
        "colab_type": "code",
        "colab": {}
      },
      "source": [
        "# class CutOutWordsTransform(NLPTransform):\n",
        "#     \"\"\" Remove random words \"\"\"\n",
        "#     def __init__(self, cutout_probability=0.05, always_apply=False, p=0.5):\n",
        "#         super(CutOutWordsTransform, self).__init__(always_apply, p)\n",
        "#         self.cutout_probability = cutout_probability\n",
        "\n",
        "#     def apply(self, data, **params):\n",
        "#         text, lang = data\n",
        "#         words = text.split()\n",
        "#         words_count = len(words)\n",
        "#         if words_count <= 1:\n",
        "#             return text, lang\n",
        "        \n",
        "#         new_words = []\n",
        "#         for i in range(words_count):\n",
        "#             if random.random() < self.cutout_probability:\n",
        "#                 continue\n",
        "#             new_words.append(words[i])\n",
        "\n",
        "#         if len(new_words) == 0:\n",
        "#             return words[random.randint(0, words_count-1)], lang\n",
        "\n",
        "#         return ' '.join(new_words), lang"
      ],
      "execution_count": 7,
      "outputs": []
    },
    {
      "cell_type": "code",
      "metadata": {
        "id": "iDFuMsnX4bh5",
        "colab_type": "code",
        "colab": {}
      },
      "source": [
        "train = pd.read_csv('/content/drive/My Drive/Colab Notebooks/JanathaHack/Janatahack: Independence Day 2020 ML Hackathon/train.csv')\n",
        "test = pd.read_csv('/content/drive/My Drive/Colab Notebooks/JanathaHack/Janatahack: Independence Day 2020 ML Hackathon/test.csv')\n",
        "sample_sub = pd.read_csv('/content/drive/My Drive/Colab Notebooks/JanathaHack/Janatahack: Independence Day 2020 ML Hackathon/sample_submission_UVKGLZE.csv')\n",
        "train.ABSTRACT = train.ABSTRACT.str.replace(\"\\n\",\" \")\n",
        "test.ABSTRACT = test.ABSTRACT.str.replace(\"\\n\",\" \")\n",
        "\n",
        "train[\"text\"] = train[\"TITLE\"] + train[\"ABSTRACT\"]\n",
        "test[\"text\"] = test[\"TITLE\"] + test[\"ABSTRACT\"]\n",
        "\n",
        "target_labels = [\"Computer Science\" ,\"Physics\" , \"Mathematics\" ,\"Statistics\" , \"Quantitative Biology\" , \"Quantitative Finance\"]\n",
        "train['label'] = train[target_labels].values.tolist()\n",
        "\n",
        "le = LabelEncoder()\n",
        "train['label'] = le.fit_transform(train['label'].astype(str))\n",
        "train = train[[\"text\",\"label\"]]\n",
        "test = test[[\"text\"]]\n",
        "test[\"label\"] = 0"
      ],
      "execution_count": 8,
      "outputs": []
    },
    {
      "cell_type": "code",
      "metadata": {
        "id": "SmnL8bvI5tMM",
        "colab_type": "code",
        "colab": {}
      },
      "source": [
        "# train['text']= train['text'].apply(lambda x: re.sub(r\"[^A-Za-z]\", \" \", x))\n",
        "# test['text'] = test['text'].apply(lambda x: re.sub(r\"[^A-Za-z]\", \" \", x))\n",
        "#--------------------------------------------------------\n",
        "# train['text'] = train['text'].apply(lambda x:get_correct_words(x))\n",
        "# test['text'] = test['text'].apply(lambda x:get_correct_words(x))"
      ],
      "execution_count": 9,
      "outputs": []
    },
    {
      "cell_type": "code",
      "metadata": {
        "id": "tXVVClTg7AmN",
        "colab_type": "code",
        "colab": {}
      },
      "source": [
        "# train.to_csv(\"/content/drive/My Drive/Colab Notebooks/JanathaHack/Janatahack: Independence Day 2020 ML Hackathon/regex_train.csv\",index=False)\n",
        "# test.to_csv(\"/content/drive/My Drive/Colab Notebooks/JanathaHack/Janatahack: Independence Day 2020 ML Hackathon/regex_test.csv\",index=False)"
      ],
      "execution_count": 10,
      "outputs": []
    },
    {
      "cell_type": "code",
      "metadata": {
        "id": "bdndvFXKvaig",
        "colab_type": "code",
        "colab": {}
      },
      "source": [
        "# transform = SwapWordsTransform(p=1.0, swap_distance=1, swap_probability=0.2)\n",
        "# tr=CutOutWordsTransform(p=1.0, cutout_probability=0.2)\n",
        "\n",
        "# lang = 'en'\n",
        "\n",
        "# for i in range(len(train)):\n",
        "#         text = train['text'][i]\n",
        "#         text=transform(data=(text, lang))['data'][0]\n",
        "#         train['text'][i]=tr(data=(text, lang))['data'][0]"
      ],
      "execution_count": 11,
      "outputs": []
    },
    {
      "cell_type": "code",
      "metadata": {
        "id": "IfjNVYBmvzgR",
        "colab_type": "code",
        "colab": {}
      },
      "source": [
        "# print(train['text'].apply(lambda x: len(x.split())).describe())"
      ],
      "execution_count": 12,
      "outputs": []
    },
    {
      "cell_type": "code",
      "metadata": {
        "id": "0rVFcQ10vp-A",
        "colab_type": "code",
        "colab": {
          "base_uri": "https://localhost:8080/",
          "height": 589
        },
        "outputId": "9d81c32f-3fef-48b5-f086-d8e9748213cf"
      },
      "source": [
        "train"
      ],
      "execution_count": 13,
      "outputs": [
        {
          "output_type": "execute_result",
          "data": {
            "text/html": [
              "<div>\n",
              "<style scoped>\n",
              "    .dataframe tbody tr th:only-of-type {\n",
              "        vertical-align: middle;\n",
              "    }\n",
              "\n",
              "    .dataframe tbody tr th {\n",
              "        vertical-align: top;\n",
              "    }\n",
              "\n",
              "    .dataframe thead th {\n",
              "        text-align: right;\n",
              "    }\n",
              "</style>\n",
              "<table border=\"1\" class=\"dataframe\">\n",
              "  <thead>\n",
              "    <tr style=\"text-align: right;\">\n",
              "      <th></th>\n",
              "      <th>text</th>\n",
              "      <th>label</th>\n",
              "    </tr>\n",
              "  </thead>\n",
              "  <tbody>\n",
              "    <tr>\n",
              "      <th>0</th>\n",
              "      <td>Reconstructing Subject-Specific Effect Maps  Predictive models allow subject-specific inference when analyzing disease related alterations in neuroimaging data. Given a subject's data, inference c...</td>\n",
              "      <td>13</td>\n",
              "    </tr>\n",
              "    <tr>\n",
              "      <th>1</th>\n",
              "      <td>Rotation Invariance Neural Network  Rotation invariance and translation invariance have great values in image recognition tasks. In this paper, we bring a new architecture in convolutional neural ...</td>\n",
              "      <td>13</td>\n",
              "    </tr>\n",
              "    <tr>\n",
              "      <th>2</th>\n",
              "      <td>Spherical polyharmonics and Poisson kernels for polyharmonic functions  We introduce and develop the notion of spherical polyharmonics, which are a natural generalisation of spherical harmonics. I...</td>\n",
              "      <td>6</td>\n",
              "    </tr>\n",
              "    <tr>\n",
              "      <th>3</th>\n",
              "      <td>A finite element approximation for the stochastic Maxwell--Landau--Lifshitz--Gilbert system  The stochastic Landau--Lifshitz--Gilbert (LLG) equation coupled with the Maxwell equations (the so call...</td>\n",
              "      <td>6</td>\n",
              "    </tr>\n",
              "    <tr>\n",
              "      <th>4</th>\n",
              "      <td>Comparative study of Discrete Wavelet Transforms and Wavelet Tensor Train decomposition to feature extraction of FTIR data of medicinal plants  Fourier-transform infra-red (FTIR) spectra of sample...</td>\n",
              "      <td>16</td>\n",
              "    </tr>\n",
              "    <tr>\n",
              "      <th>...</th>\n",
              "      <td>...</td>\n",
              "      <td>...</td>\n",
              "    </tr>\n",
              "    <tr>\n",
              "      <th>20967</th>\n",
              "      <td>Contemporary machine learning: a guide for practitioners in the physical sciences  Machine learning is finding increasingly broad application in the physical sciences. This most often involves bui...</td>\n",
              "      <td>21</td>\n",
              "    </tr>\n",
              "    <tr>\n",
              "      <th>20968</th>\n",
              "      <td>Uniform diamond coatings on WC-Co hard alloy cutting inserts deposited by a microwave plasma CVD  Polycrystalline diamond coatings have been grown on cemented carbide substrates with different asp...</td>\n",
              "      <td>9</td>\n",
              "    </tr>\n",
              "    <tr>\n",
              "      <th>20969</th>\n",
              "      <td>Analysing Soccer Games with Clustering and Conceptors  We present a new approach for identifying situations and behaviours, which we call \"moves\", from soccer games in the 2D simulation league. Be...</td>\n",
              "      <td>13</td>\n",
              "    </tr>\n",
              "    <tr>\n",
              "      <th>20970</th>\n",
              "      <td>On the Efficient Simulation of the Left-Tail of the Sum of Correlated Log-normal Variates  The sum of Log-normal variates is encountered in many challenging applications such as in performance ana...</td>\n",
              "      <td>7</td>\n",
              "    </tr>\n",
              "    <tr>\n",
              "      <th>20971</th>\n",
              "      <td>Why optional stopping is a problem for Bayesians  Recently, optional stopping has been a subject of debate in the Bayesian psychology community. Rouder (2014) argues that optional stopping is no p...</td>\n",
              "      <td>7</td>\n",
              "    </tr>\n",
              "  </tbody>\n",
              "</table>\n",
              "<p>20972 rows × 2 columns</p>\n",
              "</div>"
            ],
            "text/plain": [
              "                                                                                                                                                                                                          text  label\n",
              "0      Reconstructing Subject-Specific Effect Maps  Predictive models allow subject-specific inference when analyzing disease related alterations in neuroimaging data. Given a subject's data, inference c...     13\n",
              "1      Rotation Invariance Neural Network  Rotation invariance and translation invariance have great values in image recognition tasks. In this paper, we bring a new architecture in convolutional neural ...     13\n",
              "2      Spherical polyharmonics and Poisson kernels for polyharmonic functions  We introduce and develop the notion of spherical polyharmonics, which are a natural generalisation of spherical harmonics. I...      6\n",
              "3      A finite element approximation for the stochastic Maxwell--Landau--Lifshitz--Gilbert system  The stochastic Landau--Lifshitz--Gilbert (LLG) equation coupled with the Maxwell equations (the so call...      6\n",
              "4      Comparative study of Discrete Wavelet Transforms and Wavelet Tensor Train decomposition to feature extraction of FTIR data of medicinal plants  Fourier-transform infra-red (FTIR) spectra of sample...     16\n",
              "...                                                                                                                                                                                                        ...    ...\n",
              "20967  Contemporary machine learning: a guide for practitioners in the physical sciences  Machine learning is finding increasingly broad application in the physical sciences. This most often involves bui...     21\n",
              "20968  Uniform diamond coatings on WC-Co hard alloy cutting inserts deposited by a microwave plasma CVD  Polycrystalline diamond coatings have been grown on cemented carbide substrates with different asp...      9\n",
              "20969  Analysing Soccer Games with Clustering and Conceptors  We present a new approach for identifying situations and behaviours, which we call \"moves\", from soccer games in the 2D simulation league. Be...     13\n",
              "20970  On the Efficient Simulation of the Left-Tail of the Sum of Correlated Log-normal Variates  The sum of Log-normal variates is encountered in many challenging applications such as in performance ana...      7\n",
              "20971  Why optional stopping is a problem for Bayesians  Recently, optional stopping has been a subject of debate in the Bayesian psychology community. Rouder (2014) argues that optional stopping is no p...      7\n",
              "\n",
              "[20972 rows x 2 columns]"
            ]
          },
          "metadata": {
            "tags": []
          },
          "execution_count": 13
        }
      ]
    },
    {
      "cell_type": "code",
      "metadata": {
        "id": "EKg87HXx4xC3",
        "colab_type": "code",
        "colab": {
          "base_uri": "https://localhost:8080/",
          "height": 589
        },
        "outputId": "9b18bd24-9a88-4477-de92-ee8ce5b2e70f"
      },
      "source": [
        "train"
      ],
      "execution_count": 14,
      "outputs": [
        {
          "output_type": "execute_result",
          "data": {
            "text/html": [
              "<div>\n",
              "<style scoped>\n",
              "    .dataframe tbody tr th:only-of-type {\n",
              "        vertical-align: middle;\n",
              "    }\n",
              "\n",
              "    .dataframe tbody tr th {\n",
              "        vertical-align: top;\n",
              "    }\n",
              "\n",
              "    .dataframe thead th {\n",
              "        text-align: right;\n",
              "    }\n",
              "</style>\n",
              "<table border=\"1\" class=\"dataframe\">\n",
              "  <thead>\n",
              "    <tr style=\"text-align: right;\">\n",
              "      <th></th>\n",
              "      <th>text</th>\n",
              "      <th>label</th>\n",
              "    </tr>\n",
              "  </thead>\n",
              "  <tbody>\n",
              "    <tr>\n",
              "      <th>0</th>\n",
              "      <td>Reconstructing Subject-Specific Effect Maps  Predictive models allow subject-specific inference when analyzing disease related alterations in neuroimaging data. Given a subject's data, inference c...</td>\n",
              "      <td>13</td>\n",
              "    </tr>\n",
              "    <tr>\n",
              "      <th>1</th>\n",
              "      <td>Rotation Invariance Neural Network  Rotation invariance and translation invariance have great values in image recognition tasks. In this paper, we bring a new architecture in convolutional neural ...</td>\n",
              "      <td>13</td>\n",
              "    </tr>\n",
              "    <tr>\n",
              "      <th>2</th>\n",
              "      <td>Spherical polyharmonics and Poisson kernels for polyharmonic functions  We introduce and develop the notion of spherical polyharmonics, which are a natural generalisation of spherical harmonics. I...</td>\n",
              "      <td>6</td>\n",
              "    </tr>\n",
              "    <tr>\n",
              "      <th>3</th>\n",
              "      <td>A finite element approximation for the stochastic Maxwell--Landau--Lifshitz--Gilbert system  The stochastic Landau--Lifshitz--Gilbert (LLG) equation coupled with the Maxwell equations (the so call...</td>\n",
              "      <td>6</td>\n",
              "    </tr>\n",
              "    <tr>\n",
              "      <th>4</th>\n",
              "      <td>Comparative study of Discrete Wavelet Transforms and Wavelet Tensor Train decomposition to feature extraction of FTIR data of medicinal plants  Fourier-transform infra-red (FTIR) spectra of sample...</td>\n",
              "      <td>16</td>\n",
              "    </tr>\n",
              "    <tr>\n",
              "      <th>...</th>\n",
              "      <td>...</td>\n",
              "      <td>...</td>\n",
              "    </tr>\n",
              "    <tr>\n",
              "      <th>20967</th>\n",
              "      <td>Contemporary machine learning: a guide for practitioners in the physical sciences  Machine learning is finding increasingly broad application in the physical sciences. This most often involves bui...</td>\n",
              "      <td>21</td>\n",
              "    </tr>\n",
              "    <tr>\n",
              "      <th>20968</th>\n",
              "      <td>Uniform diamond coatings on WC-Co hard alloy cutting inserts deposited by a microwave plasma CVD  Polycrystalline diamond coatings have been grown on cemented carbide substrates with different asp...</td>\n",
              "      <td>9</td>\n",
              "    </tr>\n",
              "    <tr>\n",
              "      <th>20969</th>\n",
              "      <td>Analysing Soccer Games with Clustering and Conceptors  We present a new approach for identifying situations and behaviours, which we call \"moves\", from soccer games in the 2D simulation league. Be...</td>\n",
              "      <td>13</td>\n",
              "    </tr>\n",
              "    <tr>\n",
              "      <th>20970</th>\n",
              "      <td>On the Efficient Simulation of the Left-Tail of the Sum of Correlated Log-normal Variates  The sum of Log-normal variates is encountered in many challenging applications such as in performance ana...</td>\n",
              "      <td>7</td>\n",
              "    </tr>\n",
              "    <tr>\n",
              "      <th>20971</th>\n",
              "      <td>Why optional stopping is a problem for Bayesians  Recently, optional stopping has been a subject of debate in the Bayesian psychology community. Rouder (2014) argues that optional stopping is no p...</td>\n",
              "      <td>7</td>\n",
              "    </tr>\n",
              "  </tbody>\n",
              "</table>\n",
              "<p>20972 rows × 2 columns</p>\n",
              "</div>"
            ],
            "text/plain": [
              "                                                                                                                                                                                                          text  label\n",
              "0      Reconstructing Subject-Specific Effect Maps  Predictive models allow subject-specific inference when analyzing disease related alterations in neuroimaging data. Given a subject's data, inference c...     13\n",
              "1      Rotation Invariance Neural Network  Rotation invariance and translation invariance have great values in image recognition tasks. In this paper, we bring a new architecture in convolutional neural ...     13\n",
              "2      Spherical polyharmonics and Poisson kernels for polyharmonic functions  We introduce and develop the notion of spherical polyharmonics, which are a natural generalisation of spherical harmonics. I...      6\n",
              "3      A finite element approximation for the stochastic Maxwell--Landau--Lifshitz--Gilbert system  The stochastic Landau--Lifshitz--Gilbert (LLG) equation coupled with the Maxwell equations (the so call...      6\n",
              "4      Comparative study of Discrete Wavelet Transforms and Wavelet Tensor Train decomposition to feature extraction of FTIR data of medicinal plants  Fourier-transform infra-red (FTIR) spectra of sample...     16\n",
              "...                                                                                                                                                                                                        ...    ...\n",
              "20967  Contemporary machine learning: a guide for practitioners in the physical sciences  Machine learning is finding increasingly broad application in the physical sciences. This most often involves bui...     21\n",
              "20968  Uniform diamond coatings on WC-Co hard alloy cutting inserts deposited by a microwave plasma CVD  Polycrystalline diamond coatings have been grown on cemented carbide substrates with different asp...      9\n",
              "20969  Analysing Soccer Games with Clustering and Conceptors  We present a new approach for identifying situations and behaviours, which we call \"moves\", from soccer games in the 2D simulation league. Be...     13\n",
              "20970  On the Efficient Simulation of the Left-Tail of the Sum of Correlated Log-normal Variates  The sum of Log-normal variates is encountered in many challenging applications such as in performance ana...      7\n",
              "20971  Why optional stopping is a problem for Bayesians  Recently, optional stopping has been a subject of debate in the Bayesian psychology community. Rouder (2014) argues that optional stopping is no p...      7\n",
              "\n",
              "[20972 rows x 2 columns]"
            ]
          },
          "metadata": {
            "tags": []
          },
          "execution_count": 14
        }
      ]
    },
    {
      "cell_type": "code",
      "metadata": {
        "id": "W1BV9rn_dIgr",
        "colab_type": "code",
        "colab": {
          "base_uri": "https://localhost:8080/",
          "height": 34
        },
        "outputId": "4714a968-54cd-40f2-e8c1-a75679d3eb0c"
      },
      "source": [
        "wordcount = train['text'].str.count(' ') + 1\n",
        "wordcount.mean()"
      ],
      "execution_count": 15,
      "outputs": [
        {
          "output_type": "execute_result",
          "data": {
            "text/plain": [
              "159.91989319092121"
            ]
          },
          "metadata": {
            "tags": []
          },
          "execution_count": 15
        }
      ]
    },
    {
      "cell_type": "code",
      "metadata": {
        "id": "y7c9ZrOy43_r",
        "colab_type": "code",
        "colab": {
          "base_uri": "https://localhost:8080/",
          "height": 589
        },
        "outputId": "6e80865d-2fc6-4d93-c689-0c11aa416d1e"
      },
      "source": [
        "test"
      ],
      "execution_count": 16,
      "outputs": [
        {
          "output_type": "execute_result",
          "data": {
            "text/html": [
              "<div>\n",
              "<style scoped>\n",
              "    .dataframe tbody tr th:only-of-type {\n",
              "        vertical-align: middle;\n",
              "    }\n",
              "\n",
              "    .dataframe tbody tr th {\n",
              "        vertical-align: top;\n",
              "    }\n",
              "\n",
              "    .dataframe thead th {\n",
              "        text-align: right;\n",
              "    }\n",
              "</style>\n",
              "<table border=\"1\" class=\"dataframe\">\n",
              "  <thead>\n",
              "    <tr style=\"text-align: right;\">\n",
              "      <th></th>\n",
              "      <th>text</th>\n",
              "      <th>label</th>\n",
              "    </tr>\n",
              "  </thead>\n",
              "  <tbody>\n",
              "    <tr>\n",
              "      <th>0</th>\n",
              "      <td>Closed-form Marginal Likelihood in Gamma-Poisson Matrix Factorization  We present novel understandings of the Gamma-Poisson (GaP) model, a probabilistic matrix factorization model for count data. ...</td>\n",
              "      <td>0</td>\n",
              "    </tr>\n",
              "    <tr>\n",
              "      <th>1</th>\n",
              "      <td>Laboratory mid-IR spectra of equilibrated and igneous meteorites. Searching for observables of planetesimal debris  Meteorites contain minerals from Solar System asteroids with different propertie...</td>\n",
              "      <td>0</td>\n",
              "    </tr>\n",
              "    <tr>\n",
              "      <th>2</th>\n",
              "      <td>Case For Static AMSDU Aggregation in WLANs  Frame aggregation is a mechanism by which multiple frames are combined into a single transmission unit over the air. Frames aggregated at the AMSDU leve...</td>\n",
              "      <td>0</td>\n",
              "    </tr>\n",
              "    <tr>\n",
              "      <th>3</th>\n",
              "      <td>The $Gaia$-ESO Survey: the inner disk intermediate-age open cluster NGC 6802  Milky Way open clusters are very diverse in terms of age, chemical composition, and kinematic properties. Intermediate...</td>\n",
              "      <td>0</td>\n",
              "    </tr>\n",
              "    <tr>\n",
              "      <th>4</th>\n",
              "      <td>Witness-Functions versus Interpretation-Functions for Secrecy in Cryptographic Protocols: What to Choose?  Proving that a cryptographic protocol is correct for secrecy is a hard task. One of the s...</td>\n",
              "      <td>0</td>\n",
              "    </tr>\n",
              "    <tr>\n",
              "      <th>...</th>\n",
              "      <td>...</td>\n",
              "      <td>...</td>\n",
              "    </tr>\n",
              "    <tr>\n",
              "      <th>8984</th>\n",
              "      <td>Supporting mixed-datatype matrix multiplication within the BLIS framework  We approach the problem of implementing mixed-datatype support within the general matrix multiplication (GEMM) operation ...</td>\n",
              "      <td>0</td>\n",
              "    </tr>\n",
              "    <tr>\n",
              "      <th>8985</th>\n",
              "      <td>An axiomatic basis for Blackwell optimality  In the theory of Markov decision processes (MDPs), a Blackwell optimal policy is a policy that is optimal for every discount factor sufficiently close ...</td>\n",
              "      <td>0</td>\n",
              "    </tr>\n",
              "    <tr>\n",
              "      <th>8986</th>\n",
              "      <td>GeneVis - An interactive visualization tool for combining cross-discipline datasets within genetics  GeneVis is a web-based tool to visualize complementary data sets of different disciplines withi...</td>\n",
              "      <td>0</td>\n",
              "    </tr>\n",
              "    <tr>\n",
              "      <th>8987</th>\n",
              "      <td>Quantifying the causal effect of speed cameras on road traffic accidents via an approximate Bayesian doubly robust estimator  This paper quantifies the effect of speed cameras on road traffic coll...</td>\n",
              "      <td>0</td>\n",
              "    </tr>\n",
              "    <tr>\n",
              "      <th>8988</th>\n",
              "      <td>Cube-magic labelings of grids  We show that the vertices and edges of a $d$-dimensional grid graph $G=(V,E)$ ($d\\geqslant 2$) can be labeled with the integers from $\\{1,\\ldots,\\lvert V\\rvert\\}$ an...</td>\n",
              "      <td>0</td>\n",
              "    </tr>\n",
              "  </tbody>\n",
              "</table>\n",
              "<p>8989 rows × 2 columns</p>\n",
              "</div>"
            ],
            "text/plain": [
              "                                                                                                                                                                                                         text  label\n",
              "0     Closed-form Marginal Likelihood in Gamma-Poisson Matrix Factorization  We present novel understandings of the Gamma-Poisson (GaP) model, a probabilistic matrix factorization model for count data. ...      0\n",
              "1     Laboratory mid-IR spectra of equilibrated and igneous meteorites. Searching for observables of planetesimal debris  Meteorites contain minerals from Solar System asteroids with different propertie...      0\n",
              "2     Case For Static AMSDU Aggregation in WLANs  Frame aggregation is a mechanism by which multiple frames are combined into a single transmission unit over the air. Frames aggregated at the AMSDU leve...      0\n",
              "3     The $Gaia$-ESO Survey: the inner disk intermediate-age open cluster NGC 6802  Milky Way open clusters are very diverse in terms of age, chemical composition, and kinematic properties. Intermediate...      0\n",
              "4     Witness-Functions versus Interpretation-Functions for Secrecy in Cryptographic Protocols: What to Choose?  Proving that a cryptographic protocol is correct for secrecy is a hard task. One of the s...      0\n",
              "...                                                                                                                                                                                                       ...    ...\n",
              "8984  Supporting mixed-datatype matrix multiplication within the BLIS framework  We approach the problem of implementing mixed-datatype support within the general matrix multiplication (GEMM) operation ...      0\n",
              "8985  An axiomatic basis for Blackwell optimality  In the theory of Markov decision processes (MDPs), a Blackwell optimal policy is a policy that is optimal for every discount factor sufficiently close ...      0\n",
              "8986  GeneVis - An interactive visualization tool for combining cross-discipline datasets within genetics  GeneVis is a web-based tool to visualize complementary data sets of different disciplines withi...      0\n",
              "8987  Quantifying the causal effect of speed cameras on road traffic accidents via an approximate Bayesian doubly robust estimator  This paper quantifies the effect of speed cameras on road traffic coll...      0\n",
              "8988  Cube-magic labelings of grids  We show that the vertices and edges of a $d$-dimensional grid graph $G=(V,E)$ ($d\\geqslant 2$) can be labeled with the integers from $\\{1,\\ldots,\\lvert V\\rvert\\}$ an...      0\n",
              "\n",
              "[8989 rows x 2 columns]"
            ]
          },
          "metadata": {
            "tags": []
          },
          "execution_count": 16
        }
      ]
    },
    {
      "cell_type": "code",
      "metadata": {
        "id": "R4U-ra_UAMw5",
        "colab_type": "code",
        "colab": {
          "base_uri": "https://localhost:8080/",
          "height": 34
        },
        "outputId": "3be25b92-08a9-439a-a757-bb3328fc4769"
      },
      "source": [
        "train['label'].nunique()"
      ],
      "execution_count": 17,
      "outputs": [
        {
          "output_type": "execute_result",
          "data": {
            "text/plain": [
              "24"
            ]
          },
          "metadata": {
            "tags": []
          },
          "execution_count": 17
        }
      ]
    },
    {
      "cell_type": "code",
      "metadata": {
        "id": "gR3h2TDp5c60",
        "colab_type": "code",
        "colab": {
          "base_uri": "https://localhost:8080/",
          "height": 122
        },
        "outputId": "692357cd-a728-495f-98e8-dc422a9beeca"
      },
      "source": [
        "model = ClassificationModel('roberta', 'roberta-large', use_cuda=True,num_labels=24, args={'train_batch_size':16,\n",
        "                                                                         'reprocess_input_data': True,\n",
        "                                                                         'overwrite_output_dir': True,\n",
        "                                                                         'fp16': False,\n",
        "                                                                         'do_lower_case': False,\n",
        "                                                                         'num_train_epochs': 2,\n",
        "                                                                         'max_seq_length': 16,\n",
        "                                                                         'regression': False,\n",
        "                                                                         'manual_seed': 2,\n",
        "                                                                         \"learning_rate\":5e-5,\n",
        "                                                                         'weight_decay':0.0,\n",
        "                                                                         \"save_eval_checkpoints\": False,\n",
        "                                                                         \"save_model_every_epoch\": False,\n",
        "                                                                         \"silent\": False})"
      ],
      "execution_count": 31,
      "outputs": [
        {
          "output_type": "stream",
          "text": [
            "Some weights of the model checkpoint at roberta-large were not used when initializing RobertaForSequenceClassification: ['lm_head.bias', 'lm_head.dense.weight', 'lm_head.dense.bias', 'lm_head.layer_norm.weight', 'lm_head.layer_norm.bias', 'lm_head.decoder.weight']\n",
            "- This IS expected if you are initializing RobertaForSequenceClassification from the checkpoint of a model trained on another task or with another architecture (e.g. initializing a BertForSequenceClassification model from a BertForPretraining model).\n",
            "- This IS NOT expected if you are initializing RobertaForSequenceClassification from the checkpoint of a model that you expect to be exactly identical (initializing a BertForSequenceClassification model from a BertForSequenceClassification model).\n",
            "Some weights of RobertaForSequenceClassification were not initialized from the model checkpoint at roberta-large and are newly initialized: ['classifier.dense.weight', 'classifier.dense.bias', 'classifier.out_proj.weight', 'classifier.out_proj.bias']\n",
            "You should probably TRAIN this model on a down-stream task to be able to use it for predictions and inference.\n"
          ],
          "name": "stderr"
        }
      ]
    },
    {
      "cell_type": "code",
      "metadata": {
        "id": "7dW47L5c53PS",
        "colab_type": "code",
        "colab": {
          "base_uri": "https://localhost:8080/",
          "height": 130,
          "referenced_widgets": [
            "aba45f8006ac437b88264440415c89fd",
            "53eb6af2ae00439a9fb09eea859f0f60",
            "23c2705509e848d2a32853608b2a9055",
            "81a224922c3746649f9eef04c1d5c396",
            "c86c4bb2065c4c089ec881dd80710403",
            "e609eeb01b4c49c591513adf6506920e",
            "a7c55cea990d4d3faa18bfbaaba0027e",
            "d3a4b102d79945259da4709ac63a819f",
            "75a5803c640d4dcbb1eb63ecd285c217",
            "efe04607695647b9a0aa11461c10f43f",
            "c3e2d73a16d9423d8866574e4951451f",
            "2b2d617bbf26416695b784368ae3bddc",
            "7d63bbd59de04581a4633940366468b1",
            "ba63a613e5c74133aebc0ca42e69432f",
            "c7938fe5b9344f24876fd1b7c6b4f738",
            "f5b5d6cfcc0a4c75bc40f3a8961ac5e7",
            "cee8f54279ce4b20b501cb4c2b4831c9",
            "c8693c4a637b42e8b59163f361dc7a72",
            "67192dbd794c4fc0959aab16e340bae2",
            "d45c37027bea4e5d9e890db58a1382d0",
            "e025966dfffa4d149f8e68dbef25ab83",
            "3fe8cf59ec0948268c73aba73ef382f9",
            "93af5dc45daa439a8c851674d708e1bd",
            "29f5a4222e76412292caef9d97e501f4"
          ]
        },
        "outputId": "66b923e9-6c53-401f-ca34-181621c66218"
      },
      "source": [
        "model.train_model(train)"
      ],
      "execution_count": null,
      "outputs": [
        {
          "output_type": "display_data",
          "data": {
            "application/vnd.jupyter.widget-view+json": {
              "model_id": "aba45f8006ac437b88264440415c89fd",
              "version_minor": 0,
              "version_major": 2
            },
            "text/plain": [
              "HBox(children=(FloatProgress(value=0.0, max=20972.0), HTML(value='')))"
            ]
          },
          "metadata": {
            "tags": []
          }
        },
        {
          "output_type": "stream",
          "text": [
            "\n"
          ],
          "name": "stdout"
        },
        {
          "output_type": "display_data",
          "data": {
            "application/vnd.jupyter.widget-view+json": {
              "model_id": "75a5803c640d4dcbb1eb63ecd285c217",
              "version_minor": 0,
              "version_major": 2
            },
            "text/plain": [
              "HBox(children=(FloatProgress(value=0.0, description='Epoch', max=2.0, style=ProgressStyle(description_width='i…"
            ]
          },
          "metadata": {
            "tags": []
          }
        },
        {
          "output_type": "display_data",
          "data": {
            "application/vnd.jupyter.widget-view+json": {
              "model_id": "cee8f54279ce4b20b501cb4c2b4831c9",
              "version_minor": 0,
              "version_major": 2
            },
            "text/plain": [
              "HBox(children=(FloatProgress(value=0.0, description='Running Epoch 0 of 2', max=1311.0, style=ProgressStyle(de…"
            ]
          },
          "metadata": {
            "tags": []
          }
        }
      ]
    },
    {
      "cell_type": "code",
      "metadata": {
        "id": "ur3fY0BC8Fw3",
        "colab_type": "code",
        "colab": {}
      },
      "source": [
        "tst_result, tst_model_outputs, tst_wrong_predictions = model.eval_model(test)"
      ],
      "execution_count": null,
      "outputs": []
    },
    {
      "cell_type": "code",
      "metadata": {
        "id": "UAdvx0EEQp8j",
        "colab_type": "code",
        "colab": {}
      },
      "source": [
        "preds = softmax(tst_model_outputs,axis=1)"
      ],
      "execution_count": 21,
      "outputs": []
    },
    {
      "cell_type": "code",
      "metadata": {
        "id": "oO-5W9gLQ4W_",
        "colab_type": "code",
        "colab": {}
      },
      "source": [
        "import pickle\n",
        "with open(\"/content/drive/My Drive/Colab Notebooks/JanathaHack/Janatahack: Independence Day 2020 ML Hackathon/preds3.pkl\", 'wb') as f:\n",
        "    pickle.dump(preds, f)\n",
        "\n",
        "\n",
        "\n",
        "# with open(\"/content/drive/My Drive/Colab Notebooks/JanathaHack/Janatahack: Independence Day 2020 ML Hackathon/preds1.pkl\", 'rb') as f:\n",
        "#     preds1 = pickle.load(f)\n",
        "# with open(\"/content/drive/My Drive/Colab Notebooks/JanathaHack/Janatahack: Independence Day 2020 ML Hackathon/preds2.pkl\", 'rb') as f:\n",
        "#     preds2 = pickle.load(f)"
      ],
      "execution_count": 22,
      "outputs": []
    },
    {
      "cell_type": "code",
      "metadata": {
        "id": "qy1r27KSRaC-",
        "colab_type": "code",
        "colab": {
          "base_uri": "https://localhost:8080/",
          "height": 163
        },
        "outputId": "cde1c02d-44f0-47e1-d7c2-ef3459fa98df"
      },
      "source": [
        "preds_fin = preds1*0.8 + preds2*0.2"
      ],
      "execution_count": 23,
      "outputs": [
        {
          "output_type": "error",
          "ename": "NameError",
          "evalue": "ignored",
          "traceback": [
            "\u001b[0;31m---------------------------------------------------------------------------\u001b[0m",
            "\u001b[0;31mNameError\u001b[0m                                 Traceback (most recent call last)",
            "\u001b[0;32m<ipython-input-23-1f4031347328>\u001b[0m in \u001b[0;36m<module>\u001b[0;34m()\u001b[0m\n\u001b[0;32m----> 1\u001b[0;31m \u001b[0mpreds_fin\u001b[0m \u001b[0;34m=\u001b[0m \u001b[0mpreds1\u001b[0m\u001b[0;34m*\u001b[0m\u001b[0;36m0.8\u001b[0m \u001b[0;34m+\u001b[0m \u001b[0mpreds2\u001b[0m\u001b[0;34m*\u001b[0m\u001b[0;36m0.2\u001b[0m\u001b[0;34m\u001b[0m\u001b[0;34m\u001b[0m\u001b[0m\n\u001b[0m",
            "\u001b[0;31mNameError\u001b[0m: name 'preds1' is not defined"
          ]
        }
      ]
    },
    {
      "cell_type": "code",
      "metadata": {
        "id": "h5YoX-yh8GmQ",
        "colab_type": "code",
        "colab": {}
      },
      "source": [
        "# finalpreds = [np.argmax(x) for x in preds_fin]\n",
        "finalpreds = [np.argmax(x) for x in preds]"
      ],
      "execution_count": 24,
      "outputs": []
    },
    {
      "cell_type": "code",
      "metadata": {
        "id": "nYbsQfh98la0",
        "colab_type": "code",
        "colab": {}
      },
      "source": [
        "sample_sub[\"target\"] = finalpreds\n",
        "sample_sub[\"target\"] = le.inverse_transform(sample_sub[\"target\"])\n",
        "sample_sub.loc[:,'target'] = sample_sub.loc[:,'target'].apply(lambda x: literal_eval(x))\n",
        "sample_sub[target_labels] = pd.DataFrame(sample_sub.target.tolist(), index= sample_sub.index)\n",
        "sample_sub.drop(\"target\",axis=1,inplace = True)"
      ],
      "execution_count": 25,
      "outputs": []
    },
    {
      "cell_type": "code",
      "metadata": {
        "id": "J1IM-GaEEdGA",
        "colab_type": "code",
        "colab": {}
      },
      "source": [
        "sample_sub.to_csv(\"indpday_submit8.csv\",index = False)"
      ],
      "execution_count": 26,
      "outputs": []
    },
    {
      "cell_type": "code",
      "metadata": {
        "id": "r_PaWSXZEp5Z",
        "colab_type": "code",
        "colab": {}
      },
      "source": [
        "sample_sub[\"target\"] = finalpreds"
      ],
      "execution_count": 27,
      "outputs": []
    },
    {
      "cell_type": "code",
      "metadata": {
        "id": "_LPqnW5QEvIw",
        "colab_type": "code",
        "colab": {
          "base_uri": "https://localhost:8080/",
          "height": 49
        },
        "outputId": "58587569-88fd-40ed-a4f2-8ba0afdb29d4"
      },
      "source": [
        "sample_sub[sample_sub[\"target\"]==19]"
      ],
      "execution_count": 28,
      "outputs": [
        {
          "output_type": "execute_result",
          "data": {
            "text/html": [
              "<div>\n",
              "<style scoped>\n",
              "    .dataframe tbody tr th:only-of-type {\n",
              "        vertical-align: middle;\n",
              "    }\n",
              "\n",
              "    .dataframe tbody tr th {\n",
              "        vertical-align: top;\n",
              "    }\n",
              "\n",
              "    .dataframe thead th {\n",
              "        text-align: right;\n",
              "    }\n",
              "</style>\n",
              "<table border=\"1\" class=\"dataframe\">\n",
              "  <thead>\n",
              "    <tr style=\"text-align: right;\">\n",
              "      <th></th>\n",
              "      <th>ID</th>\n",
              "      <th>Computer Science</th>\n",
              "      <th>Physics</th>\n",
              "      <th>Mathematics</th>\n",
              "      <th>Statistics</th>\n",
              "      <th>Quantitative Biology</th>\n",
              "      <th>Quantitative Finance</th>\n",
              "      <th>target</th>\n",
              "    </tr>\n",
              "  </thead>\n",
              "  <tbody>\n",
              "  </tbody>\n",
              "</table>\n",
              "</div>"
            ],
            "text/plain": [
              "Empty DataFrame\n",
              "Columns: [ID, Computer Science, Physics, Mathematics, Statistics, Quantitative Biology, Quantitative Finance, target]\n",
              "Index: []"
            ]
          },
          "metadata": {
            "tags": []
          },
          "execution_count": 28
        }
      ]
    },
    {
      "cell_type": "code",
      "metadata": {
        "id": "tj9NU8eDFzTy",
        "colab_type": "code",
        "colab": {
          "base_uri": "https://localhost:8080/",
          "height": 51
        },
        "outputId": "164b291c-6704-450b-a2a0-5be73738e8e1"
      },
      "source": [
        "sample_sub[\"target\"].value_counts()"
      ],
      "execution_count": 29,
      "outputs": [
        {
          "output_type": "execute_result",
          "data": {
            "text/plain": [
              "9    8989\n",
              "Name: target, dtype: int64"
            ]
          },
          "metadata": {
            "tags": []
          },
          "execution_count": 29
        }
      ]
    },
    {
      "cell_type": "code",
      "metadata": {
        "id": "kWBUKKWhGHmA",
        "colab_type": "code",
        "colab": {}
      },
      "source": [
        "train[\"label\"].value_counts()"
      ],
      "execution_count": null,
      "outputs": []
    },
    {
      "cell_type": "code",
      "metadata": {
        "id": "Nn5PRMZ1GoTb",
        "colab_type": "code",
        "colab": {
          "base_uri": "https://localhost:8080/",
          "height": 589
        },
        "outputId": "73982e3d-847d-4f57-da1e-8049e9cb6f36"
      },
      "source": [
        "test"
      ],
      "execution_count": 30,
      "outputs": [
        {
          "output_type": "execute_result",
          "data": {
            "text/html": [
              "<div>\n",
              "<style scoped>\n",
              "    .dataframe tbody tr th:only-of-type {\n",
              "        vertical-align: middle;\n",
              "    }\n",
              "\n",
              "    .dataframe tbody tr th {\n",
              "        vertical-align: top;\n",
              "    }\n",
              "\n",
              "    .dataframe thead th {\n",
              "        text-align: right;\n",
              "    }\n",
              "</style>\n",
              "<table border=\"1\" class=\"dataframe\">\n",
              "  <thead>\n",
              "    <tr style=\"text-align: right;\">\n",
              "      <th></th>\n",
              "      <th>text</th>\n",
              "      <th>label</th>\n",
              "    </tr>\n",
              "  </thead>\n",
              "  <tbody>\n",
              "    <tr>\n",
              "      <th>0</th>\n",
              "      <td>Closed-form Marginal Likelihood in Gamma-Poisson Matrix Factorization  We present novel understandings of the Gamma-Poisson (GaP) model, a probabilistic matrix factorization model for count data. ...</td>\n",
              "      <td>0</td>\n",
              "    </tr>\n",
              "    <tr>\n",
              "      <th>1</th>\n",
              "      <td>Laboratory mid-IR spectra of equilibrated and igneous meteorites. Searching for observables of planetesimal debris  Meteorites contain minerals from Solar System asteroids with different propertie...</td>\n",
              "      <td>0</td>\n",
              "    </tr>\n",
              "    <tr>\n",
              "      <th>2</th>\n",
              "      <td>Case For Static AMSDU Aggregation in WLANs  Frame aggregation is a mechanism by which multiple frames are combined into a single transmission unit over the air. Frames aggregated at the AMSDU leve...</td>\n",
              "      <td>0</td>\n",
              "    </tr>\n",
              "    <tr>\n",
              "      <th>3</th>\n",
              "      <td>The $Gaia$-ESO Survey: the inner disk intermediate-age open cluster NGC 6802  Milky Way open clusters are very diverse in terms of age, chemical composition, and kinematic properties. Intermediate...</td>\n",
              "      <td>0</td>\n",
              "    </tr>\n",
              "    <tr>\n",
              "      <th>4</th>\n",
              "      <td>Witness-Functions versus Interpretation-Functions for Secrecy in Cryptographic Protocols: What to Choose?  Proving that a cryptographic protocol is correct for secrecy is a hard task. One of the s...</td>\n",
              "      <td>0</td>\n",
              "    </tr>\n",
              "    <tr>\n",
              "      <th>...</th>\n",
              "      <td>...</td>\n",
              "      <td>...</td>\n",
              "    </tr>\n",
              "    <tr>\n",
              "      <th>8984</th>\n",
              "      <td>Supporting mixed-datatype matrix multiplication within the BLIS framework  We approach the problem of implementing mixed-datatype support within the general matrix multiplication (GEMM) operation ...</td>\n",
              "      <td>0</td>\n",
              "    </tr>\n",
              "    <tr>\n",
              "      <th>8985</th>\n",
              "      <td>An axiomatic basis for Blackwell optimality  In the theory of Markov decision processes (MDPs), a Blackwell optimal policy is a policy that is optimal for every discount factor sufficiently close ...</td>\n",
              "      <td>0</td>\n",
              "    </tr>\n",
              "    <tr>\n",
              "      <th>8986</th>\n",
              "      <td>GeneVis - An interactive visualization tool for combining cross-discipline datasets within genetics  GeneVis is a web-based tool to visualize complementary data sets of different disciplines withi...</td>\n",
              "      <td>0</td>\n",
              "    </tr>\n",
              "    <tr>\n",
              "      <th>8987</th>\n",
              "      <td>Quantifying the causal effect of speed cameras on road traffic accidents via an approximate Bayesian doubly robust estimator  This paper quantifies the effect of speed cameras on road traffic coll...</td>\n",
              "      <td>0</td>\n",
              "    </tr>\n",
              "    <tr>\n",
              "      <th>8988</th>\n",
              "      <td>Cube-magic labelings of grids  We show that the vertices and edges of a $d$-dimensional grid graph $G=(V,E)$ ($d\\geqslant 2$) can be labeled with the integers from $\\{1,\\ldots,\\lvert V\\rvert\\}$ an...</td>\n",
              "      <td>0</td>\n",
              "    </tr>\n",
              "  </tbody>\n",
              "</table>\n",
              "<p>8989 rows × 2 columns</p>\n",
              "</div>"
            ],
            "text/plain": [
              "                                                                                                                                                                                                         text  label\n",
              "0     Closed-form Marginal Likelihood in Gamma-Poisson Matrix Factorization  We present novel understandings of the Gamma-Poisson (GaP) model, a probabilistic matrix factorization model for count data. ...      0\n",
              "1     Laboratory mid-IR spectra of equilibrated and igneous meteorites. Searching for observables of planetesimal debris  Meteorites contain minerals from Solar System asteroids with different propertie...      0\n",
              "2     Case For Static AMSDU Aggregation in WLANs  Frame aggregation is a mechanism by which multiple frames are combined into a single transmission unit over the air. Frames aggregated at the AMSDU leve...      0\n",
              "3     The $Gaia$-ESO Survey: the inner disk intermediate-age open cluster NGC 6802  Milky Way open clusters are very diverse in terms of age, chemical composition, and kinematic properties. Intermediate...      0\n",
              "4     Witness-Functions versus Interpretation-Functions for Secrecy in Cryptographic Protocols: What to Choose?  Proving that a cryptographic protocol is correct for secrecy is a hard task. One of the s...      0\n",
              "...                                                                                                                                                                                                       ...    ...\n",
              "8984  Supporting mixed-datatype matrix multiplication within the BLIS framework  We approach the problem of implementing mixed-datatype support within the general matrix multiplication (GEMM) operation ...      0\n",
              "8985  An axiomatic basis for Blackwell optimality  In the theory of Markov decision processes (MDPs), a Blackwell optimal policy is a policy that is optimal for every discount factor sufficiently close ...      0\n",
              "8986  GeneVis - An interactive visualization tool for combining cross-discipline datasets within genetics  GeneVis is a web-based tool to visualize complementary data sets of different disciplines withi...      0\n",
              "8987  Quantifying the causal effect of speed cameras on road traffic accidents via an approximate Bayesian doubly robust estimator  This paper quantifies the effect of speed cameras on road traffic coll...      0\n",
              "8988  Cube-magic labelings of grids  We show that the vertices and edges of a $d$-dimensional grid graph $G=(V,E)$ ($d\\geqslant 2$) can be labeled with the integers from $\\{1,\\ldots,\\lvert V\\rvert\\}$ an...      0\n",
              "\n",
              "[8989 rows x 2 columns]"
            ]
          },
          "metadata": {
            "tags": []
          },
          "execution_count": 30
        }
      ]
    },
    {
      "cell_type": "code",
      "metadata": {
        "id": "q8fhTtD93MnF",
        "colab_type": "code",
        "colab": {}
      },
      "source": [
        ""
      ],
      "execution_count": null,
      "outputs": []
    }
  ]
}